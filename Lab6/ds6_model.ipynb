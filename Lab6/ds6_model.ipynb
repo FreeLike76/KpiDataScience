{
 "cells": [
  {
   "cell_type": "markdown",
   "metadata": {},
   "source": [
    "# Data Science\n",
    "Training model\n",
    "- Student: Dmytro Geleshko\n",
    "- Group: IP-91\n",
    "- Var: 6"
   ]
  },
  {
   "cell_type": "markdown",
   "metadata": {},
   "source": [
    "# Imports"
   ]
  },
  {
   "cell_type": "code",
   "execution_count": 47,
   "metadata": {},
   "outputs": [],
   "source": [
    "import numpy as np\n",
    "import matplotlib.pyplot as plt\n",
    "import pandas as pd\n",
    "import tensorflow as tf\n",
    "import tensorflow.keras as keras\n",
    "import tensorflow.keras.layers as layers"
   ]
  },
  {
   "cell_type": "markdown",
   "metadata": {},
   "source": [
    "# Config"
   ]
  },
  {
   "cell_type": "code",
   "execution_count": 48,
   "metadata": {},
   "outputs": [],
   "source": [
    "# var 6\n",
    "np.random.seed(6)\n",
    "plt.rcParams[\"figure.figsize\"] = (20, 8)\n",
    "pd.set_option(\"display.max_columns\", None)\n",
    "pd.options.display.float_format = \"{:,.3f}\".format"
   ]
  },
  {
   "cell_type": "code",
   "execution_count": 49,
   "metadata": {},
   "outputs": [
    {
     "data": {
      "text/plain": [
       "[PhysicalDevice(name='/physical_device:GPU:0', device_type='GPU')]"
      ]
     },
     "execution_count": 49,
     "metadata": {},
     "output_type": "execute_result"
    }
   ],
   "source": [
    "tf.config.list_physical_devices(\"GPU\")"
   ]
  },
  {
   "cell_type": "markdown",
   "metadata": {},
   "source": [
    "# Load data"
   ]
  },
  {
   "cell_type": "code",
   "execution_count": 50,
   "metadata": {},
   "outputs": [
    {
     "data": {
      "text/html": [
       "<div>\n",
       "<style scoped>\n",
       "    .dataframe tbody tr th:only-of-type {\n",
       "        vertical-align: middle;\n",
       "    }\n",
       "\n",
       "    .dataframe tbody tr th {\n",
       "        vertical-align: top;\n",
       "    }\n",
       "\n",
       "    .dataframe thead th {\n",
       "        text-align: right;\n",
       "    }\n",
       "</style>\n",
       "<table border=\"1\" class=\"dataframe\">\n",
       "  <thead>\n",
       "    <tr style=\"text-align: right;\">\n",
       "      <th></th>\n",
       "      <th>close</th>\n",
       "      <th>volume</th>\n",
       "      <th>volume_norm</th>\n",
       "      <th>log_close</th>\n",
       "      <th>month_sin</th>\n",
       "      <th>month_cos</th>\n",
       "      <th>year_sin</th>\n",
       "      <th>year_cos</th>\n",
       "    </tr>\n",
       "    <tr>\n",
       "      <th>date</th>\n",
       "      <th></th>\n",
       "      <th></th>\n",
       "      <th></th>\n",
       "      <th></th>\n",
       "      <th></th>\n",
       "      <th></th>\n",
       "      <th></th>\n",
       "      <th></th>\n",
       "    </tr>\n",
       "  </thead>\n",
       "  <tbody>\n",
       "    <tr>\n",
       "      <th>2010-07-18</th>\n",
       "      <td>0.100</td>\n",
       "      <td>80.000</td>\n",
       "      <td>-0.674</td>\n",
       "      <td>-2.303</td>\n",
       "      <td>-0.095</td>\n",
       "      <td>-0.995</td>\n",
       "      <td>-0.266</td>\n",
       "      <td>-0.964</td>\n",
       "    </tr>\n",
       "    <tr>\n",
       "      <th>2010-07-19</th>\n",
       "      <td>0.100</td>\n",
       "      <td>570.000</td>\n",
       "      <td>-0.672</td>\n",
       "      <td>-2.303</td>\n",
       "      <td>-0.297</td>\n",
       "      <td>-0.955</td>\n",
       "      <td>-0.283</td>\n",
       "      <td>-0.959</td>\n",
       "    </tr>\n",
       "    <tr>\n",
       "      <th>2010-07-20</th>\n",
       "      <td>0.100</td>\n",
       "      <td>260.000</td>\n",
       "      <td>-0.673</td>\n",
       "      <td>-2.303</td>\n",
       "      <td>-0.486</td>\n",
       "      <td>-0.874</td>\n",
       "      <td>-0.299</td>\n",
       "      <td>-0.954</td>\n",
       "    </tr>\n",
       "    <tr>\n",
       "      <th>2010-07-21</th>\n",
       "      <td>0.100</td>\n",
       "      <td>580.000</td>\n",
       "      <td>-0.672</td>\n",
       "      <td>-2.303</td>\n",
       "      <td>-0.655</td>\n",
       "      <td>-0.756</td>\n",
       "      <td>-0.316</td>\n",
       "      <td>-0.949</td>\n",
       "    </tr>\n",
       "    <tr>\n",
       "      <th>2010-07-22</th>\n",
       "      <td>0.100</td>\n",
       "      <td>2,160.000</td>\n",
       "      <td>-0.666</td>\n",
       "      <td>-2.303</td>\n",
       "      <td>-0.796</td>\n",
       "      <td>-0.605</td>\n",
       "      <td>-0.332</td>\n",
       "      <td>-0.943</td>\n",
       "    </tr>\n",
       "    <tr>\n",
       "      <th>...</th>\n",
       "      <td>...</td>\n",
       "      <td>...</td>\n",
       "      <td>...</td>\n",
       "      <td>...</td>\n",
       "      <td>...</td>\n",
       "      <td>...</td>\n",
       "      <td>...</td>\n",
       "      <td>...</td>\n",
       "    </tr>\n",
       "    <tr>\n",
       "      <th>2021-11-21</th>\n",
       "      <td>58,714.301</td>\n",
       "      <td>40,980.000</td>\n",
       "      <td>-0.523</td>\n",
       "      <td>10.980</td>\n",
       "      <td>-0.863</td>\n",
       "      <td>-0.505</td>\n",
       "      <td>-0.643</td>\n",
       "      <td>0.766</td>\n",
       "    </tr>\n",
       "    <tr>\n",
       "      <th>2021-11-22</th>\n",
       "      <td>56,308.801</td>\n",
       "      <td>76,450.000</td>\n",
       "      <td>-0.392</td>\n",
       "      <td>10.939</td>\n",
       "      <td>-0.948</td>\n",
       "      <td>-0.317</td>\n",
       "      <td>-0.630</td>\n",
       "      <td>0.777</td>\n",
       "    </tr>\n",
       "    <tr>\n",
       "      <th>2021-11-23</th>\n",
       "      <td>57,573.199</td>\n",
       "      <td>72,480.000</td>\n",
       "      <td>-0.406</td>\n",
       "      <td>10.961</td>\n",
       "      <td>-0.993</td>\n",
       "      <td>-0.116</td>\n",
       "      <td>-0.616</td>\n",
       "      <td>0.787</td>\n",
       "    </tr>\n",
       "    <tr>\n",
       "      <th>2021-11-24</th>\n",
       "      <td>57,171.699</td>\n",
       "      <td>56,680.000</td>\n",
       "      <td>-0.465</td>\n",
       "      <td>10.954</td>\n",
       "      <td>-0.996</td>\n",
       "      <td>0.090</td>\n",
       "      <td>-0.603</td>\n",
       "      <td>0.798</td>\n",
       "    </tr>\n",
       "    <tr>\n",
       "      <th>2021-11-25</th>\n",
       "      <td>58,156.602</td>\n",
       "      <td>57,890.000</td>\n",
       "      <td>-0.460</td>\n",
       "      <td>10.971</td>\n",
       "      <td>-0.956</td>\n",
       "      <td>0.292</td>\n",
       "      <td>-0.589</td>\n",
       "      <td>0.808</td>\n",
       "    </tr>\n",
       "  </tbody>\n",
       "</table>\n",
       "<p>4149 rows × 8 columns</p>\n",
       "</div>"
      ],
      "text/plain": [
       "                close     volume  volume_norm  log_close  month_sin  \\\n",
       "date                                                                  \n",
       "2010-07-18      0.100     80.000       -0.674     -2.303     -0.095   \n",
       "2010-07-19      0.100    570.000       -0.672     -2.303     -0.297   \n",
       "2010-07-20      0.100    260.000       -0.673     -2.303     -0.486   \n",
       "2010-07-21      0.100    580.000       -0.672     -2.303     -0.655   \n",
       "2010-07-22      0.100  2,160.000       -0.666     -2.303     -0.796   \n",
       "...               ...        ...          ...        ...        ...   \n",
       "2021-11-21 58,714.301 40,980.000       -0.523     10.980     -0.863   \n",
       "2021-11-22 56,308.801 76,450.000       -0.392     10.939     -0.948   \n",
       "2021-11-23 57,573.199 72,480.000       -0.406     10.961     -0.993   \n",
       "2021-11-24 57,171.699 56,680.000       -0.465     10.954     -0.996   \n",
       "2021-11-25 58,156.602 57,890.000       -0.460     10.971     -0.956   \n",
       "\n",
       "            month_cos  year_sin  year_cos  \n",
       "date                                       \n",
       "2010-07-18     -0.995    -0.266    -0.964  \n",
       "2010-07-19     -0.955    -0.283    -0.959  \n",
       "2010-07-20     -0.874    -0.299    -0.954  \n",
       "2010-07-21     -0.756    -0.316    -0.949  \n",
       "2010-07-22     -0.605    -0.332    -0.943  \n",
       "...               ...       ...       ...  \n",
       "2021-11-21     -0.505    -0.643     0.766  \n",
       "2021-11-22     -0.317    -0.630     0.777  \n",
       "2021-11-23     -0.116    -0.616     0.787  \n",
       "2021-11-24      0.090    -0.603     0.798  \n",
       "2021-11-25      0.292    -0.589     0.808  \n",
       "\n",
       "[4149 rows x 8 columns]"
      ]
     },
     "execution_count": 50,
     "metadata": {},
     "output_type": "execute_result"
    }
   ],
   "source": [
    "df = pd.read_csv(\"mod_data.csv\", index_col=\"date\", parse_dates=True, dtype=np.float32)\n",
    "df"
   ]
  },
  {
   "cell_type": "code",
   "execution_count": 51,
   "metadata": {},
   "outputs": [
    {
     "name": "stdout",
     "output_type": "stream",
     "text": [
      "<class 'pandas.core.frame.DataFrame'>\n",
      "DatetimeIndex: 4149 entries, 2010-07-18 to 2021-11-25\n",
      "Data columns (total 8 columns):\n",
      " #   Column       Non-Null Count  Dtype  \n",
      "---  ------       --------------  -----  \n",
      " 0   close        4149 non-null   float32\n",
      " 1   volume       4149 non-null   float32\n",
      " 2   volume_norm  4149 non-null   float32\n",
      " 3   log_close    4149 non-null   float32\n",
      " 4   month_sin    4149 non-null   float32\n",
      " 5   month_cos    4149 non-null   float32\n",
      " 6   year_sin     4149 non-null   float32\n",
      " 7   year_cos     4149 non-null   float32\n",
      "dtypes: float32(8)\n",
      "memory usage: 162.1 KB\n"
     ]
    }
   ],
   "source": [
    "df.info()"
   ]
  },
  {
   "cell_type": "markdown",
   "metadata": {},
   "source": [
    "## Train/Test"
   ]
  },
  {
   "cell_type": "code",
   "execution_count": 52,
   "metadata": {},
   "outputs": [],
   "source": [
    "# input: past 21 days\n",
    "Tx = 21\n",
    "# output: next 3 days\n",
    "Ty = 3\n",
    "# number of features\n",
    "features = [\"volume_norm\", \"log_close\", \"month_sin\", \"month_cos\", \"year_sin\", \"year_cos\"]\n",
    "n = len(features)\n",
    "# size of train/test data\n",
    "m = df.shape[0] - (Tx + Ty)"
   ]
  },
  {
   "cell_type": "code",
   "execution_count": 53,
   "metadata": {},
   "outputs": [
    {
     "data": {
      "text/plain": [
       "((4125, 21, 6), dtype('float32'), (4125, 3), dtype('float32'))"
      ]
     },
     "execution_count": 53,
     "metadata": {},
     "output_type": "execute_result"
    }
   ],
   "source": [
    "X = np.zeros((m, Tx, n))\n",
    "y = np.zeros((m, Ty))\n",
    "\n",
    "for i in range(m):\n",
    "    X[i, :, :] = df[features].iloc[i:i+Tx].values\n",
    "    y[i, :] = df[\"log_close\"].iloc[i+Tx: i+Tx+Ty].values\n",
    "\n",
    "X = X.astype(np.float32)\n",
    "y = y.astype(np.float32)\n",
    "\n",
    "X.shape, X.dtype, y.shape, y.dtype"
   ]
  },
  {
   "cell_type": "code",
   "execution_count": 54,
   "metadata": {},
   "outputs": [],
   "source": [
    "batch_size = 64\n",
    "train_size = int(X.shape[0] * 0.9)"
   ]
  },
  {
   "cell_type": "code",
   "execution_count": 55,
   "metadata": {},
   "outputs": [
    {
     "name": "stdout",
     "output_type": "stream",
     "text": [
      "X_train (3712, 21, 6)\n",
      "y_train (3712, 3)\n",
      "<PrefetchDataset shapes: ((None, 21, 6), (None, 3)), types: (tf.float32, tf.float32)>\n",
      "X_test (413, 21, 6)\n",
      "y_test (413, 3)\n",
      "<PrefetchDataset shapes: ((None, 21, 6), (None, 3)), types: (tf.float32, tf.float32)>\n"
     ]
    }
   ],
   "source": [
    "X_train = X[:train_size, :, :]\n",
    "y_train = y[:train_size, :]\n",
    "train_dataset = tf.data.Dataset.from_tensor_slices((X_train, y_train))\n",
    "train_dataset = train_dataset.shuffle(X_train.shape[0])\n",
    "train_dataset = train_dataset.batch(128)\n",
    "train_dataset = train_dataset.prefetch(256)\n",
    "\n",
    "X_test = X[train_size:, :, :]\n",
    "y_test = y[train_size:, :]\n",
    "test_dataset = tf.data.Dataset.from_tensor_slices((X_test, y_test))\n",
    "test_dataset = test_dataset.batch(128)\n",
    "test_dataset = test_dataset.prefetch(256)\n",
    "\n",
    "print(\"X_train\", X_train.shape)\n",
    "print(\"y_train\", y_train.shape)\n",
    "print(train_dataset)\n",
    "\n",
    "print(\"X_test\", X_test.shape)\n",
    "print(\"y_test\", y_test.shape)\n",
    "print(test_dataset)"
   ]
  },
  {
   "cell_type": "markdown",
   "metadata": {},
   "source": [
    "# Models"
   ]
  },
  {
   "cell_type": "markdown",
   "metadata": {},
   "source": [
    "## LSTM Neural Network"
   ]
  },
  {
   "cell_type": "code",
   "execution_count": 56,
   "metadata": {},
   "outputs": [],
   "source": [
    "def create_lstm_model(Tx, n, Ty, learning_rate=0.01, decay=0.01):\n",
    "    X_in = layers.Input(shape=(Tx, n))\n",
    "    X = layers.LSTM(42, activation=\"relu\", return_sequences=False)(X_in)\n",
    "    X_out = layers.Dense(Ty)(X)\n",
    "\n",
    "    model = tf.keras.Model(inputs=X_in, outputs=X_out)\n",
    "    opt = tf.optimizers.Adam(learning_rate=learning_rate, decay=decay)\n",
    "    model.compile(optimizer=opt, loss=tf.losses.MeanSquaredError(), metrics=[tf.metrics.MeanSquaredError()])\n",
    "\n",
    "    return model"
   ]
  },
  {
   "cell_type": "code",
   "execution_count": 57,
   "metadata": {},
   "outputs": [
    {
     "name": "stdout",
     "output_type": "stream",
     "text": [
      "WARNING:tensorflow:Layer lstm_2 will not use cuDNN kernels since it doesn't meet the criteria. It will use a generic GPU kernel as fallback when running on GPU.\n",
      "Model: \"model_3\"\n",
      "_________________________________________________________________\n",
      " Layer (type)                Output Shape              Param #   \n",
      "=================================================================\n",
      " input_6 (InputLayer)        [(None, 21, 6)]           0         \n",
      "                                                                 \n",
      " lstm_2 (LSTM)               (None, 42)                8232      \n",
      "                                                                 \n",
      " dense_3 (Dense)             (None, 3)                 129       \n",
      "                                                                 \n",
      "=================================================================\n",
      "Total params: 8,361\n",
      "Trainable params: 8,361\n",
      "Non-trainable params: 0\n",
      "_________________________________________________________________\n"
     ]
    }
   ],
   "source": [
    "model_lstm = create_lstm_model(Tx, n, Ty, learning_rate=0.01, decay=0.002)\n",
    "model_lstm.summary()"
   ]
  },
  {
   "cell_type": "code",
   "execution_count": 58,
   "metadata": {},
   "outputs": [
    {
     "name": "stdout",
     "output_type": "stream",
     "text": [
      "Epoch 1/15\n",
      "29/29 [==============================] - 2s 49ms/step - loss: 14.1546 - mean_squared_error: 14.1546 - val_loss: 2.1003 - val_mean_squared_error: 2.1003\n",
      "Epoch 2/15\n",
      "29/29 [==============================] - 1s 48ms/step - loss: 0.3386 - mean_squared_error: 0.3386 - val_loss: 0.1720 - val_mean_squared_error: 0.1720\n",
      "Epoch 3/15\n",
      "29/29 [==============================] - 1s 42ms/step - loss: 0.0721 - mean_squared_error: 0.0721 - val_loss: 0.0676 - val_mean_squared_error: 0.0676\n",
      "Epoch 4/15\n",
      "29/29 [==============================] - 1s 45ms/step - loss: 0.0365 - mean_squared_error: 0.0365 - val_loss: 0.0409 - val_mean_squared_error: 0.0409\n",
      "Epoch 5/15\n",
      "29/29 [==============================] - 1s 44ms/step - loss: 0.0312 - mean_squared_error: 0.0312 - val_loss: 0.0371 - val_mean_squared_error: 0.0371\n",
      "Epoch 6/15\n",
      "29/29 [==============================] - 1s 47ms/step - loss: 0.0298 - mean_squared_error: 0.0298 - val_loss: 0.0333 - val_mean_squared_error: 0.0333\n",
      "Epoch 7/15\n",
      "29/29 [==============================] - 1s 48ms/step - loss: 0.0277 - mean_squared_error: 0.0277 - val_loss: 0.0305 - val_mean_squared_error: 0.0305\n",
      "Epoch 8/15\n",
      "29/29 [==============================] - 1s 47ms/step - loss: 0.0261 - mean_squared_error: 0.0261 - val_loss: 0.0329 - val_mean_squared_error: 0.0329\n",
      "Epoch 9/15\n",
      "29/29 [==============================] - 1s 46ms/step - loss: 0.0254 - mean_squared_error: 0.0254 - val_loss: 0.0270 - val_mean_squared_error: 0.0270\n",
      "Epoch 10/15\n",
      "29/29 [==============================] - 1s 49ms/step - loss: 0.0237 - mean_squared_error: 0.0237 - val_loss: 0.0275 - val_mean_squared_error: 0.0275\n",
      "Epoch 11/15\n",
      "29/29 [==============================] - 1s 46ms/step - loss: 0.0237 - mean_squared_error: 0.0237 - val_loss: 0.0264 - val_mean_squared_error: 0.0264\n",
      "Epoch 12/15\n",
      "29/29 [==============================] - 1s 47ms/step - loss: 0.0226 - mean_squared_error: 0.0226 - val_loss: 0.0269 - val_mean_squared_error: 0.0269\n",
      "Epoch 13/15\n",
      "29/29 [==============================] - 1s 46ms/step - loss: 0.0237 - mean_squared_error: 0.0237 - val_loss: 0.0248 - val_mean_squared_error: 0.0248\n",
      "Epoch 14/15\n",
      "29/29 [==============================] - 1s 49ms/step - loss: 0.0215 - mean_squared_error: 0.0215 - val_loss: 0.0265 - val_mean_squared_error: 0.0265\n",
      "Epoch 15/15\n",
      "29/29 [==============================] - 1s 49ms/step - loss: 0.0209 - mean_squared_error: 0.0209 - val_loss: 0.0216 - val_mean_squared_error: 0.0216\n"
     ]
    }
   ],
   "source": [
    "history = model_lstm.fit(train_dataset, validation_data=test_dataset, epochs=15)"
   ]
  },
  {
   "cell_type": "code",
   "execution_count": 59,
   "metadata": {},
   "outputs": [
    {
     "data": {
      "image/png": "[encoded data removed]",
      "text/plain": [
       "<Figure size 1440x576 with 2 Axes>"
      ]
     },
     "metadata": {
      "needs_background": "light"
     },
     "output_type": "display_data"
    }
   ],
   "source": [
    "fig, axes = plt.subplots(2, 1)\n",
    "axes[0].plot(history.history[\"loss\"], label=\"loss\")\n",
    "axes[0].plot(history.history[\"val_loss\"], label=\"val_loss\")\n",
    "axes[0].legend()\n",
    "axes[1].plot(history.history[\"mean_squared_error\"], label=\"mean_squared_error\")\n",
    "axes[1].plot(history.history[\"val_mean_squared_error\"], label=\"val_mean_squared_error\")\n",
    "axes[1].legend()\n",
    "plt.show()"
   ]
  },
  {
   "cell_type": "code",
   "execution_count": 60,
   "metadata": {},
   "outputs": [],
   "source": [
    "model_lstm.save(\"saved_model/v1_lstm.h5\")"
   ]
  },
  {
   "cell_type": "markdown",
   "metadata": {},
   "source": [
    "## Linear Regression with TensorFlow"
   ]
  },
  {
   "cell_type": "code",
   "execution_count": 61,
   "metadata": {},
   "outputs": [],
   "source": [
    "def create_linear_model(Tx, n, Ty, learning_rate=0.01, decay=0.01):\n",
    "    X_in = layers.Input(shape=(Tx, n))\n",
    "\n",
    "    # (batch, time, n) -> (batch, time*n)\n",
    "    X = layers.Reshape((Tx*n,))(X_in)\n",
    "    \n",
    "    # Dense layer with 1 neuron and no activation is the same as Linear Regression,\n",
    "    # we will imitate Ty Linear Regressions stacked together.\n",
    "    # They share same input features, but learn to predict price for different days.\n",
    "    # Firt one will learn to forecast price on day t, second on day t + 1 and third on day t + 3\n",
    "    X_out = layers.Dense(Ty)(X)\n",
    "\n",
    "    model = tf.keras.Model(inputs=X_in, outputs=X_out)\n",
    "    opt = tf.optimizers.Adam(learning_rate=learning_rate, decay=decay)\n",
    "    model.compile(optimizer=opt, loss=tf.losses.MeanSquaredError(), metrics=[tf.metrics.MeanSquaredError()])\n",
    "\n",
    "    return model"
   ]
  },
  {
   "cell_type": "code",
   "execution_count": 62,
   "metadata": {},
   "outputs": [
    {
     "name": "stdout",
     "output_type": "stream",
     "text": [
      "Model: \"model_4\"\n",
      "_________________________________________________________________\n",
      " Layer (type)                Output Shape              Param #   \n",
      "=================================================================\n",
      " input_7 (InputLayer)        [(None, 21, 6)]           0         \n",
      "                                                                 \n",
      " reshape_3 (Reshape)         (None, 126)               0         \n",
      "                                                                 \n",
      " dense_4 (Dense)             (None, 3)                 381       \n",
      "                                                                 \n",
      "=================================================================\n",
      "Total params: 381\n",
      "Trainable params: 381\n",
      "Non-trainable params: 0\n",
      "_________________________________________________________________\n"
     ]
    }
   ],
   "source": [
    "model_linear = create_linear_model(Tx, n, Ty, learning_rate=0.01, decay=0.002)\n",
    "model_linear.summary()"
   ]
  },
  {
   "cell_type": "code",
   "execution_count": 63,
   "metadata": {},
   "outputs": [
    {
     "name": "stdout",
     "output_type": "stream",
     "text": [
      "Epoch 1/20\n",
      "29/29 [==============================] - 0s 5ms/step - loss: 14.5757 - mean_squared_error: 14.5757 - val_loss: 1.2031 - val_mean_squared_error: 1.2031\n",
      "Epoch 2/20\n",
      "29/29 [==============================] - 0s 3ms/step - loss: 0.4130 - mean_squared_error: 0.4130 - val_loss: 0.2576 - val_mean_squared_error: 0.2576\n",
      "Epoch 3/20\n",
      "29/29 [==============================] - 0s 4ms/step - loss: 0.0818 - mean_squared_error: 0.0818 - val_loss: 0.0265 - val_mean_squared_error: 0.0265\n",
      "Epoch 4/20\n",
      "29/29 [==============================] - 0s 4ms/step - loss: 0.0492 - mean_squared_error: 0.0492 - val_loss: 0.0256 - val_mean_squared_error: 0.0256\n",
      "Epoch 5/20\n",
      "29/29 [==============================] - 0s 3ms/step - loss: 0.0439 - mean_squared_error: 0.0439 - val_loss: 0.0274 - val_mean_squared_error: 0.0274\n",
      "Epoch 6/20\n",
      "29/29 [==============================] - 0s 3ms/step - loss: 0.0417 - mean_squared_error: 0.0417 - val_loss: 0.0267 - val_mean_squared_error: 0.0267\n",
      "Epoch 7/20\n",
      "29/29 [==============================] - 0s 2ms/step - loss: 0.0392 - mean_squared_error: 0.0392 - val_loss: 0.0200 - val_mean_squared_error: 0.0200\n",
      "Epoch 8/20\n",
      "29/29 [==============================] - 0s 3ms/step - loss: 0.0375 - mean_squared_error: 0.0375 - val_loss: 0.0237 - val_mean_squared_error: 0.0237\n",
      "Epoch 9/20\n",
      "29/29 [==============================] - 0s 3ms/step - loss: 0.0361 - mean_squared_error: 0.0361 - val_loss: 0.0235 - val_mean_squared_error: 0.0235\n",
      "Epoch 10/20\n",
      "29/29 [==============================] - 0s 5ms/step - loss: 0.0350 - mean_squared_error: 0.0350 - val_loss: 0.0200 - val_mean_squared_error: 0.0200\n",
      "Epoch 11/20\n",
      "29/29 [==============================] - 0s 5ms/step - loss: 0.0340 - mean_squared_error: 0.0340 - val_loss: 0.0180 - val_mean_squared_error: 0.0180\n",
      "Epoch 12/20\n",
      "29/29 [==============================] - 0s 5ms/step - loss: 0.0333 - mean_squared_error: 0.0333 - val_loss: 0.0254 - val_mean_squared_error: 0.0254\n",
      "Epoch 13/20\n",
      "29/29 [==============================] - 0s 4ms/step - loss: 0.0321 - mean_squared_error: 0.0321 - val_loss: 0.0189 - val_mean_squared_error: 0.0189\n",
      "Epoch 14/20\n",
      "29/29 [==============================] - 0s 3ms/step - loss: 0.0314 - mean_squared_error: 0.0314 - val_loss: 0.0192 - val_mean_squared_error: 0.0192\n",
      "Epoch 15/20\n",
      "29/29 [==============================] - 0s 4ms/step - loss: 0.0303 - mean_squared_error: 0.0303 - val_loss: 0.0199 - val_mean_squared_error: 0.0199\n",
      "Epoch 16/20\n",
      "29/29 [==============================] - 0s 4ms/step - loss: 0.0299 - mean_squared_error: 0.0299 - val_loss: 0.0174 - val_mean_squared_error: 0.0174\n",
      "Epoch 17/20\n",
      "29/29 [==============================] - 0s 4ms/step - loss: 0.0292 - mean_squared_error: 0.0292 - val_loss: 0.0195 - val_mean_squared_error: 0.0195\n",
      "Epoch 18/20\n",
      "29/29 [==============================] - 0s 5ms/step - loss: 0.0288 - mean_squared_error: 0.0288 - val_loss: 0.0156 - val_mean_squared_error: 0.0156\n",
      "Epoch 19/20\n",
      "29/29 [==============================] - 0s 3ms/step - loss: 0.0283 - mean_squared_error: 0.0283 - val_loss: 0.0188 - val_mean_squared_error: 0.0188\n",
      "Epoch 20/20\n",
      "29/29 [==============================] - 0s 3ms/step - loss: 0.0276 - mean_squared_error: 0.0276 - val_loss: 0.0191 - val_mean_squared_error: 0.0191\n"
     ]
    }
   ],
   "source": [
    "history = model_linear.fit(train_dataset, validation_data=test_dataset, epochs=20)"
   ]
  },
  {
   "cell_type": "code",
   "execution_count": 64,
   "metadata": {},
   "outputs": [
    {
     "data": {
      "image/png": "[encoded data removed]",
      "text/plain": [
       "<Figure size 1440x576 with 2 Axes>"
      ]
     },
     "metadata": {
      "needs_background": "light"
     },
     "output_type": "display_data"
    }
   ],
   "source": [
    "fig, axes = plt.subplots(2, 1)\n",
    "axes[0].plot(history.history[\"loss\"], label=\"loss\")\n",
    "axes[0].plot(history.history[\"val_loss\"], label=\"val_loss\")\n",
    "axes[0].legend()\n",
    "axes[1].plot(history.history[\"mean_squared_error\"], label=\"mean_squared_error\")\n",
    "axes[1].plot(history.history[\"val_mean_squared_error\"], label=\"val_mean_squared_error\")\n",
    "axes[1].legend()\n",
    "plt.show()"
   ]
  },
  {
   "cell_type": "code",
   "execution_count": 65,
   "metadata": {},
   "outputs": [],
   "source": [
    "model_linear.save(\"saved_model/v1_linear.h5\")"
   ]
  }
 ],
 "metadata": {
  "interpreter": {
   "hash": "3619d5c4af2d6b6ace9b5f845aef04faffbdd23ea44365d7398b8fd3b50e9091"
  },
  "kernelspec": {
   "display_name": "Python 3.9.7 64-bit ('tf2.7': conda)",
   "language": "python",
   "name": "python3"
  },
  "language_info": {
   "codemirror_mode": {
    "name": "ipython",
    "version": 3
   },
   "file_extension": ".py",
   "mimetype": "text/x-python",
   "name": "python",
   "nbconvert_exporter": "python",
   "pygments_lexer": "ipython3",
   "version": "3.9.7"
  },
  "orig_nbformat": 4
 },
 "nbformat": 4,
 "nbformat_minor": 2
}
