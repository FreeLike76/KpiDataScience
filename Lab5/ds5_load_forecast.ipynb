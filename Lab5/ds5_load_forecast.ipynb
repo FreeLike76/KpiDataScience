{
 "cells": [
  {
   "cell_type": "markdown",
   "metadata": {},
   "source": [
    "# Data Science\n",
    "- Student: Dmytro Geleshko\n",
    "- Group: IP-91\n",
    "- Var: 6"
   ]
  },
  {
   "cell_type": "markdown",
   "metadata": {},
   "source": [
    "# Imports"
   ]
  },
  {
   "cell_type": "code",
   "execution_count": 10,
   "metadata": {},
   "outputs": [],
   "source": [
    "import numpy as np\n",
    "import matplotlib.pyplot as plt\n",
    "import pandas as pd\n",
    "import tensorflow as tf\n",
    "import tensorflow.keras as keras\n",
    "import tensorflow.keras.layers as layers"
   ]
  },
  {
   "cell_type": "markdown",
   "metadata": {},
   "source": [
    "# Config"
   ]
  },
  {
   "cell_type": "code",
   "execution_count": 11,
   "metadata": {},
   "outputs": [],
   "source": [
    "# var 6\n",
    "np.random.seed(6)\n",
    "plt.rcParams[\"figure.figsize\"] = (20, 8)\n",
    "pd.set_option(\"display.max_columns\", None)\n",
    "pd.options.display.float_format = \"{:,.3f}\".format"
   ]
  },
  {
   "cell_type": "markdown",
   "metadata": {},
   "source": [
    "# Load data"
   ]
  },
  {
   "cell_type": "code",
   "execution_count": 12,
   "metadata": {},
   "outputs": [
    {
     "data": {
      "text/html": [
       "<div>\n",
       "<style scoped>\n",
       "    .dataframe tbody tr th:only-of-type {\n",
       "        vertical-align: middle;\n",
       "    }\n",
       "\n",
       "    .dataframe tbody tr th {\n",
       "        vertical-align: top;\n",
       "    }\n",
       "\n",
       "    .dataframe thead th {\n",
       "        text-align: right;\n",
       "    }\n",
       "</style>\n",
       "<table border=\"1\" class=\"dataframe\">\n",
       "  <thead>\n",
       "    <tr style=\"text-align: right;\">\n",
       "      <th></th>\n",
       "      <th>close</th>\n",
       "      <th>volume</th>\n",
       "      <th>volume_norm</th>\n",
       "      <th>log_close</th>\n",
       "      <th>log_fit</th>\n",
       "      <th>log_diff</th>\n",
       "      <th>month_sin</th>\n",
       "      <th>month_cos</th>\n",
       "      <th>year_sin</th>\n",
       "      <th>year_cos</th>\n",
       "    </tr>\n",
       "    <tr>\n",
       "      <th>date</th>\n",
       "      <th></th>\n",
       "      <th></th>\n",
       "      <th></th>\n",
       "      <th></th>\n",
       "      <th></th>\n",
       "      <th></th>\n",
       "      <th></th>\n",
       "      <th></th>\n",
       "      <th></th>\n",
       "      <th></th>\n",
       "    </tr>\n",
       "  </thead>\n",
       "  <tbody>\n",
       "    <tr>\n",
       "      <th>2010-07-18</th>\n",
       "      <td>0.100</td>\n",
       "      <td>80.000</td>\n",
       "      <td>-0.674</td>\n",
       "      <td>-2.303</td>\n",
       "      <td>-1.424</td>\n",
       "      <td>-0.878</td>\n",
       "      <td>-0.095</td>\n",
       "      <td>-0.995</td>\n",
       "      <td>-0.266</td>\n",
       "      <td>-0.964</td>\n",
       "    </tr>\n",
       "    <tr>\n",
       "      <th>2010-07-19</th>\n",
       "      <td>0.100</td>\n",
       "      <td>570.000</td>\n",
       "      <td>-0.672</td>\n",
       "      <td>-2.303</td>\n",
       "      <td>-1.418</td>\n",
       "      <td>-0.884</td>\n",
       "      <td>-0.297</td>\n",
       "      <td>-0.955</td>\n",
       "      <td>-0.283</td>\n",
       "      <td>-0.959</td>\n",
       "    </tr>\n",
       "    <tr>\n",
       "      <th>2010-07-20</th>\n",
       "      <td>0.100</td>\n",
       "      <td>260.000</td>\n",
       "      <td>-0.673</td>\n",
       "      <td>-2.303</td>\n",
       "      <td>-1.412</td>\n",
       "      <td>-0.890</td>\n",
       "      <td>-0.486</td>\n",
       "      <td>-0.874</td>\n",
       "      <td>-0.299</td>\n",
       "      <td>-0.954</td>\n",
       "    </tr>\n",
       "    <tr>\n",
       "      <th>2010-07-21</th>\n",
       "      <td>0.100</td>\n",
       "      <td>580.000</td>\n",
       "      <td>-0.672</td>\n",
       "      <td>-2.303</td>\n",
       "      <td>-1.406</td>\n",
       "      <td>-0.896</td>\n",
       "      <td>-0.655</td>\n",
       "      <td>-0.756</td>\n",
       "      <td>-0.316</td>\n",
       "      <td>-0.949</td>\n",
       "    </tr>\n",
       "    <tr>\n",
       "      <th>2010-07-22</th>\n",
       "      <td>0.100</td>\n",
       "      <td>2,160.000</td>\n",
       "      <td>-0.666</td>\n",
       "      <td>-2.303</td>\n",
       "      <td>-1.400</td>\n",
       "      <td>-0.902</td>\n",
       "      <td>-0.796</td>\n",
       "      <td>-0.605</td>\n",
       "      <td>-0.332</td>\n",
       "      <td>-0.943</td>\n",
       "    </tr>\n",
       "    <tr>\n",
       "      <th>...</th>\n",
       "      <td>...</td>\n",
       "      <td>...</td>\n",
       "      <td>...</td>\n",
       "      <td>...</td>\n",
       "      <td>...</td>\n",
       "      <td>...</td>\n",
       "      <td>...</td>\n",
       "      <td>...</td>\n",
       "      <td>...</td>\n",
       "      <td>...</td>\n",
       "    </tr>\n",
       "    <tr>\n",
       "      <th>2021-11-21</th>\n",
       "      <td>58,714.301</td>\n",
       "      <td>40,980.000</td>\n",
       "      <td>-0.523</td>\n",
       "      <td>10.980</td>\n",
       "      <td>9.416</td>\n",
       "      <td>1.564</td>\n",
       "      <td>-0.863</td>\n",
       "      <td>-0.505</td>\n",
       "      <td>-0.643</td>\n",
       "      <td>0.766</td>\n",
       "    </tr>\n",
       "    <tr>\n",
       "      <th>2021-11-22</th>\n",
       "      <td>56,308.801</td>\n",
       "      <td>76,450.000</td>\n",
       "      <td>-0.392</td>\n",
       "      <td>10.939</td>\n",
       "      <td>9.416</td>\n",
       "      <td>1.523</td>\n",
       "      <td>-0.948</td>\n",
       "      <td>-0.317</td>\n",
       "      <td>-0.630</td>\n",
       "      <td>0.777</td>\n",
       "    </tr>\n",
       "    <tr>\n",
       "      <th>2021-11-23</th>\n",
       "      <td>57,573.199</td>\n",
       "      <td>72,480.000</td>\n",
       "      <td>-0.406</td>\n",
       "      <td>10.961</td>\n",
       "      <td>9.416</td>\n",
       "      <td>1.545</td>\n",
       "      <td>-0.993</td>\n",
       "      <td>-0.116</td>\n",
       "      <td>-0.616</td>\n",
       "      <td>0.787</td>\n",
       "    </tr>\n",
       "    <tr>\n",
       "      <th>2021-11-24</th>\n",
       "      <td>57,171.699</td>\n",
       "      <td>56,680.000</td>\n",
       "      <td>-0.465</td>\n",
       "      <td>10.954</td>\n",
       "      <td>9.416</td>\n",
       "      <td>1.538</td>\n",
       "      <td>-0.996</td>\n",
       "      <td>0.090</td>\n",
       "      <td>-0.603</td>\n",
       "      <td>0.798</td>\n",
       "    </tr>\n",
       "    <tr>\n",
       "      <th>2021-11-25</th>\n",
       "      <td>58,156.602</td>\n",
       "      <td>57,890.000</td>\n",
       "      <td>-0.460</td>\n",
       "      <td>10.971</td>\n",
       "      <td>9.416</td>\n",
       "      <td>1.555</td>\n",
       "      <td>-0.956</td>\n",
       "      <td>0.292</td>\n",
       "      <td>-0.589</td>\n",
       "      <td>0.808</td>\n",
       "    </tr>\n",
       "  </tbody>\n",
       "</table>\n",
       "<p>4149 rows × 10 columns</p>\n",
       "</div>"
      ],
      "text/plain": [
       "                close     volume  volume_norm  log_close  log_fit  log_diff  \\\n",
       "date                                                                          \n",
       "2010-07-18      0.100     80.000       -0.674     -2.303   -1.424    -0.878   \n",
       "2010-07-19      0.100    570.000       -0.672     -2.303   -1.418    -0.884   \n",
       "2010-07-20      0.100    260.000       -0.673     -2.303   -1.412    -0.890   \n",
       "2010-07-21      0.100    580.000       -0.672     -2.303   -1.406    -0.896   \n",
       "2010-07-22      0.100  2,160.000       -0.666     -2.303   -1.400    -0.902   \n",
       "...               ...        ...          ...        ...      ...       ...   \n",
       "2021-11-21 58,714.301 40,980.000       -0.523     10.980    9.416     1.564   \n",
       "2021-11-22 56,308.801 76,450.000       -0.392     10.939    9.416     1.523   \n",
       "2021-11-23 57,573.199 72,480.000       -0.406     10.961    9.416     1.545   \n",
       "2021-11-24 57,171.699 56,680.000       -0.465     10.954    9.416     1.538   \n",
       "2021-11-25 58,156.602 57,890.000       -0.460     10.971    9.416     1.555   \n",
       "\n",
       "            month_sin  month_cos  year_sin  year_cos  \n",
       "date                                                  \n",
       "2010-07-18     -0.095     -0.995    -0.266    -0.964  \n",
       "2010-07-19     -0.297     -0.955    -0.283    -0.959  \n",
       "2010-07-20     -0.486     -0.874    -0.299    -0.954  \n",
       "2010-07-21     -0.655     -0.756    -0.316    -0.949  \n",
       "2010-07-22     -0.796     -0.605    -0.332    -0.943  \n",
       "...               ...        ...       ...       ...  \n",
       "2021-11-21     -0.863     -0.505    -0.643     0.766  \n",
       "2021-11-22     -0.948     -0.317    -0.630     0.777  \n",
       "2021-11-23     -0.993     -0.116    -0.616     0.787  \n",
       "2021-11-24     -0.996      0.090    -0.603     0.798  \n",
       "2021-11-25     -0.956      0.292    -0.589     0.808  \n",
       "\n",
       "[4149 rows x 10 columns]"
      ]
     },
     "execution_count": 12,
     "metadata": {},
     "output_type": "execute_result"
    }
   ],
   "source": [
    "df = pd.read_csv(\"mod_data.csv\", index_col=\"date\", parse_dates=True, dtype=np.float32)\n",
    "df"
   ]
  },
  {
   "cell_type": "code",
   "execution_count": 13,
   "metadata": {},
   "outputs": [
    {
     "data": {
      "text/plain": [
       "(dtype('<M8[ns]'),\n",
       " close          float32\n",
       " volume         float32\n",
       " volume_norm    float32\n",
       " log_close      float32\n",
       " log_fit        float32\n",
       " log_diff       float32\n",
       " month_sin      float32\n",
       " month_cos      float32\n",
       " year_sin       float32\n",
       " year_cos       float32\n",
       " dtype: object)"
      ]
     },
     "execution_count": 13,
     "metadata": {},
     "output_type": "execute_result"
    }
   ],
   "source": [
    "df.index.dtype, df.dtypes"
   ]
  },
  {
   "cell_type": "code",
   "execution_count": 14,
   "metadata": {},
   "outputs": [],
   "source": [
    "features = [\"volume_norm\", \"log_diff\", \"month_sin\", \"month_cos\", \"year_sin\", \"year_cos\"]"
   ]
  },
  {
   "cell_type": "markdown",
   "metadata": {},
   "source": [
    "# Load Model"
   ]
  },
  {
   "cell_type": "code",
   "execution_count": 15,
   "metadata": {},
   "outputs": [
    {
     "name": "stdout",
     "output_type": "stream",
     "text": [
      "Model: \"model_3\"\n",
      "_________________________________________________________________\n",
      " Layer (type)                Output Shape              Param #   \n",
      "=================================================================\n",
      " input_4 (InputLayer)        [(None, 21, 6)]           0         \n",
      "                                                                 \n",
      " lstm_3 (LSTM)               (None, 42)                8232      \n",
      "                                                                 \n",
      " dense_3 (Dense)             (None, 7)                 301       \n",
      "                                                                 \n",
      "=================================================================\n",
      "Total params: 8,533\n",
      "Trainable params: 8,533\n",
      "Non-trainable params: 0\n",
      "_________________________________________________________________\n"
     ]
    }
   ],
   "source": [
    "model = tf.keras.models.load_model(\"saved_model/v1.h5\")\n",
    "\n",
    "model.summary()"
   ]
  },
  {
   "cell_type": "code",
   "execution_count": 16,
   "metadata": {},
   "outputs": [],
   "source": [
    "def get_forecast(df, features, model):\n",
    "    # vals\n",
    "    x = df[features].iloc[-21:].values.reshape((1, 21, 6))\n",
    "    y = model.predict(x)[0]\n",
    "    \n",
    "    #dates\n",
    "    dates_x = pd.date_range(df.index[-21], periods=28, freq=\"D\")\n",
    "    dates_y = dates_x[-7:]\n",
    "    dates_x = dates_x[:-7]\n",
    "\n",
    "    # convert X\n",
    "    x = np.exp(df[\"log_diff\"].iloc[-21:].values + df[\"log_fit\"].iloc[-21:].values)\n",
    "\n",
    "    # convert y\n",
    "    y = np.exp(y + df[\"log_fit\"].iloc[-1])\n",
    "\n",
    "    #plot\n",
    "    plt.plot(dates_x, x, label=\"history\", color=\"blue\")\n",
    "    plt.plot(dates_y, y, label=\"forecast\", color=\"red\")\n",
    "    plt.plot([dates_x[-1], dates_y[0]], [x[-1], y[0]], color=\"red\", linestyle=\"--\")\n",
    "    plt.legend()\n",
    "    plt.plot()"
   ]
  },
  {
   "cell_type": "code",
   "execution_count": 17,
   "metadata": {},
   "outputs": [
    {
     "data": {
      "image/png": "[encoded data removed]",
      "text/plain": [
       "<Figure size 1440x576 with 1 Axes>"
      ]
     },
     "metadata": {
      "needs_background": "light"
     },
     "output_type": "display_data"
    }
   ],
   "source": [
    "get_forecast(df, features, model)"
   ]
  }
 ],
 "metadata": {
  "interpreter": {
   "hash": "3619d5c4af2d6b6ace9b5f845aef04faffbdd23ea44365d7398b8fd3b50e9091"
  },
  "kernelspec": {
   "display_name": "Python 3.9.7 64-bit ('tf2.7': conda)",
   "language": "python",
   "name": "python3"
  },
  "language_info": {
   "codemirror_mode": {
    "name": "ipython",
    "version": 3
   },
   "file_extension": ".py",
   "mimetype": "text/x-python",
   "name": "python",
   "nbconvert_exporter": "python",
   "pygments_lexer": "ipython3",
   "version": "3.9.7"
  },
  "orig_nbformat": 4
 },
 "nbformat": 4,
 "nbformat_minor": 2
}
