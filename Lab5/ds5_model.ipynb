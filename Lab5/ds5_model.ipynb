{
 "cells": [
  {
   "cell_type": "markdown",
   "metadata": {},
   "source": [
    "# Data Science\n",
    "- Student: Dmytro Geleshko\n",
    "- Group: IP-91\n",
    "- Var: 6"
   ]
  },
  {
   "cell_type": "markdown",
   "metadata": {},
   "source": [
    "# Imports"
   ]
  },
  {
   "cell_type": "code",
   "execution_count": 1,
   "metadata": {},
   "outputs": [],
   "source": [
    "import numpy as np\n",
    "import matplotlib.pyplot as plt\n",
    "import pandas as pd\n",
    "import seaborn as sns\n",
    "import tensorflow as tf\n",
    "import tensorflow.keras as keras\n",
    "import tensorflow.keras.layers as layers"
   ]
  },
  {
   "cell_type": "markdown",
   "metadata": {},
   "source": [
    "# Config"
   ]
  },
  {
   "cell_type": "code",
   "execution_count": 2,
   "metadata": {},
   "outputs": [],
   "source": [
    "# var 6\n",
    "np.random.seed(6)\n",
    "plt.rcParams[\"figure.figsize\"] = (20, 8)\n",
    "pd.set_option(\"display.max_columns\", None)\n",
    "pd.options.display.float_format = \"{:,.3f}\".format"
   ]
  },
  {
   "cell_type": "code",
   "execution_count": 3,
   "metadata": {},
   "outputs": [
    {
     "data": {
      "text/plain": [
       "[PhysicalDevice(name='/physical_device:GPU:0', device_type='GPU')]"
      ]
     },
     "execution_count": 3,
     "metadata": {},
     "output_type": "execute_result"
    }
   ],
   "source": [
    "tf.config.list_physical_devices(\"GPU\")"
   ]
  },
  {
   "cell_type": "markdown",
   "metadata": {},
   "source": [
    "# Load data"
   ]
  },
  {
   "cell_type": "code",
   "execution_count": 4,
   "metadata": {},
   "outputs": [
    {
     "data": {
      "text/html": [
       "<div>\n",
       "<style scoped>\n",
       "    .dataframe tbody tr th:only-of-type {\n",
       "        vertical-align: middle;\n",
       "    }\n",
       "\n",
       "    .dataframe tbody tr th {\n",
       "        vertical-align: top;\n",
       "    }\n",
       "\n",
       "    .dataframe thead th {\n",
       "        text-align: right;\n",
       "    }\n",
       "</style>\n",
       "<table border=\"1\" class=\"dataframe\">\n",
       "  <thead>\n",
       "    <tr style=\"text-align: right;\">\n",
       "      <th></th>\n",
       "      <th>close</th>\n",
       "      <th>volume</th>\n",
       "      <th>volume_norm</th>\n",
       "      <th>log_close</th>\n",
       "      <th>log_fit</th>\n",
       "      <th>log_diff</th>\n",
       "      <th>month_sin</th>\n",
       "      <th>month_cos</th>\n",
       "      <th>year_sin</th>\n",
       "      <th>year_cos</th>\n",
       "    </tr>\n",
       "    <tr>\n",
       "      <th>date</th>\n",
       "      <th></th>\n",
       "      <th></th>\n",
       "      <th></th>\n",
       "      <th></th>\n",
       "      <th></th>\n",
       "      <th></th>\n",
       "      <th></th>\n",
       "      <th></th>\n",
       "      <th></th>\n",
       "      <th></th>\n",
       "    </tr>\n",
       "  </thead>\n",
       "  <tbody>\n",
       "    <tr>\n",
       "      <th>2010-07-18</th>\n",
       "      <td>0.100</td>\n",
       "      <td>80.000</td>\n",
       "      <td>-0.674</td>\n",
       "      <td>-2.303</td>\n",
       "      <td>-1.424</td>\n",
       "      <td>-0.878</td>\n",
       "      <td>-0.095</td>\n",
       "      <td>-0.995</td>\n",
       "      <td>-0.266</td>\n",
       "      <td>-0.964</td>\n",
       "    </tr>\n",
       "    <tr>\n",
       "      <th>2010-07-19</th>\n",
       "      <td>0.100</td>\n",
       "      <td>570.000</td>\n",
       "      <td>-0.672</td>\n",
       "      <td>-2.303</td>\n",
       "      <td>-1.418</td>\n",
       "      <td>-0.884</td>\n",
       "      <td>-0.297</td>\n",
       "      <td>-0.955</td>\n",
       "      <td>-0.283</td>\n",
       "      <td>-0.959</td>\n",
       "    </tr>\n",
       "    <tr>\n",
       "      <th>2010-07-20</th>\n",
       "      <td>0.100</td>\n",
       "      <td>260.000</td>\n",
       "      <td>-0.673</td>\n",
       "      <td>-2.303</td>\n",
       "      <td>-1.412</td>\n",
       "      <td>-0.890</td>\n",
       "      <td>-0.486</td>\n",
       "      <td>-0.874</td>\n",
       "      <td>-0.299</td>\n",
       "      <td>-0.954</td>\n",
       "    </tr>\n",
       "    <tr>\n",
       "      <th>2010-07-21</th>\n",
       "      <td>0.100</td>\n",
       "      <td>580.000</td>\n",
       "      <td>-0.672</td>\n",
       "      <td>-2.303</td>\n",
       "      <td>-1.406</td>\n",
       "      <td>-0.896</td>\n",
       "      <td>-0.655</td>\n",
       "      <td>-0.756</td>\n",
       "      <td>-0.316</td>\n",
       "      <td>-0.949</td>\n",
       "    </tr>\n",
       "    <tr>\n",
       "      <th>2010-07-22</th>\n",
       "      <td>0.100</td>\n",
       "      <td>2,160.000</td>\n",
       "      <td>-0.666</td>\n",
       "      <td>-2.303</td>\n",
       "      <td>-1.400</td>\n",
       "      <td>-0.902</td>\n",
       "      <td>-0.796</td>\n",
       "      <td>-0.605</td>\n",
       "      <td>-0.332</td>\n",
       "      <td>-0.943</td>\n",
       "    </tr>\n",
       "    <tr>\n",
       "      <th>...</th>\n",
       "      <td>...</td>\n",
       "      <td>...</td>\n",
       "      <td>...</td>\n",
       "      <td>...</td>\n",
       "      <td>...</td>\n",
       "      <td>...</td>\n",
       "      <td>...</td>\n",
       "      <td>...</td>\n",
       "      <td>...</td>\n",
       "      <td>...</td>\n",
       "    </tr>\n",
       "    <tr>\n",
       "      <th>2021-11-21</th>\n",
       "      <td>58,714.301</td>\n",
       "      <td>40,980.000</td>\n",
       "      <td>-0.523</td>\n",
       "      <td>10.980</td>\n",
       "      <td>9.416</td>\n",
       "      <td>1.564</td>\n",
       "      <td>-0.863</td>\n",
       "      <td>-0.505</td>\n",
       "      <td>-0.643</td>\n",
       "      <td>0.766</td>\n",
       "    </tr>\n",
       "    <tr>\n",
       "      <th>2021-11-22</th>\n",
       "      <td>56,308.801</td>\n",
       "      <td>76,450.000</td>\n",
       "      <td>-0.392</td>\n",
       "      <td>10.939</td>\n",
       "      <td>9.416</td>\n",
       "      <td>1.523</td>\n",
       "      <td>-0.948</td>\n",
       "      <td>-0.317</td>\n",
       "      <td>-0.630</td>\n",
       "      <td>0.777</td>\n",
       "    </tr>\n",
       "    <tr>\n",
       "      <th>2021-11-23</th>\n",
       "      <td>57,573.199</td>\n",
       "      <td>72,480.000</td>\n",
       "      <td>-0.406</td>\n",
       "      <td>10.961</td>\n",
       "      <td>9.416</td>\n",
       "      <td>1.545</td>\n",
       "      <td>-0.993</td>\n",
       "      <td>-0.116</td>\n",
       "      <td>-0.616</td>\n",
       "      <td>0.787</td>\n",
       "    </tr>\n",
       "    <tr>\n",
       "      <th>2021-11-24</th>\n",
       "      <td>57,171.699</td>\n",
       "      <td>56,680.000</td>\n",
       "      <td>-0.465</td>\n",
       "      <td>10.954</td>\n",
       "      <td>9.416</td>\n",
       "      <td>1.538</td>\n",
       "      <td>-0.996</td>\n",
       "      <td>0.090</td>\n",
       "      <td>-0.603</td>\n",
       "      <td>0.798</td>\n",
       "    </tr>\n",
       "    <tr>\n",
       "      <th>2021-11-25</th>\n",
       "      <td>58,156.602</td>\n",
       "      <td>57,890.000</td>\n",
       "      <td>-0.460</td>\n",
       "      <td>10.971</td>\n",
       "      <td>9.416</td>\n",
       "      <td>1.555</td>\n",
       "      <td>-0.956</td>\n",
       "      <td>0.292</td>\n",
       "      <td>-0.589</td>\n",
       "      <td>0.808</td>\n",
       "    </tr>\n",
       "  </tbody>\n",
       "</table>\n",
       "<p>4149 rows × 10 columns</p>\n",
       "</div>"
      ],
      "text/plain": [
       "                close     volume  volume_norm  log_close  log_fit  log_diff  \\\n",
       "date                                                                          \n",
       "2010-07-18      0.100     80.000       -0.674     -2.303   -1.424    -0.878   \n",
       "2010-07-19      0.100    570.000       -0.672     -2.303   -1.418    -0.884   \n",
       "2010-07-20      0.100    260.000       -0.673     -2.303   -1.412    -0.890   \n",
       "2010-07-21      0.100    580.000       -0.672     -2.303   -1.406    -0.896   \n",
       "2010-07-22      0.100  2,160.000       -0.666     -2.303   -1.400    -0.902   \n",
       "...               ...        ...          ...        ...      ...       ...   \n",
       "2021-11-21 58,714.301 40,980.000       -0.523     10.980    9.416     1.564   \n",
       "2021-11-22 56,308.801 76,450.000       -0.392     10.939    9.416     1.523   \n",
       "2021-11-23 57,573.199 72,480.000       -0.406     10.961    9.416     1.545   \n",
       "2021-11-24 57,171.699 56,680.000       -0.465     10.954    9.416     1.538   \n",
       "2021-11-25 58,156.602 57,890.000       -0.460     10.971    9.416     1.555   \n",
       "\n",
       "            month_sin  month_cos  year_sin  year_cos  \n",
       "date                                                  \n",
       "2010-07-18     -0.095     -0.995    -0.266    -0.964  \n",
       "2010-07-19     -0.297     -0.955    -0.283    -0.959  \n",
       "2010-07-20     -0.486     -0.874    -0.299    -0.954  \n",
       "2010-07-21     -0.655     -0.756    -0.316    -0.949  \n",
       "2010-07-22     -0.796     -0.605    -0.332    -0.943  \n",
       "...               ...        ...       ...       ...  \n",
       "2021-11-21     -0.863     -0.505    -0.643     0.766  \n",
       "2021-11-22     -0.948     -0.317    -0.630     0.777  \n",
       "2021-11-23     -0.993     -0.116    -0.616     0.787  \n",
       "2021-11-24     -0.996      0.090    -0.603     0.798  \n",
       "2021-11-25     -0.956      0.292    -0.589     0.808  \n",
       "\n",
       "[4149 rows x 10 columns]"
      ]
     },
     "execution_count": 4,
     "metadata": {},
     "output_type": "execute_result"
    }
   ],
   "source": [
    "df = pd.read_csv(\"mod_data.csv\", index_col=\"date\", parse_dates=True, dtype=np.float32)\n",
    "df"
   ]
  },
  {
   "cell_type": "code",
   "execution_count": 5,
   "metadata": {},
   "outputs": [
    {
     "data": {
      "text/plain": [
       "(dtype('<M8[ns]'),\n",
       " close          float32\n",
       " volume         float32\n",
       " volume_norm    float32\n",
       " log_close      float32\n",
       " log_fit        float32\n",
       " log_diff       float32\n",
       " month_sin      float32\n",
       " month_cos      float32\n",
       " year_sin       float32\n",
       " year_cos       float32\n",
       " dtype: object)"
      ]
     },
     "execution_count": 5,
     "metadata": {},
     "output_type": "execute_result"
    }
   ],
   "source": [
    "df.index.dtype, df.dtypes"
   ]
  },
  {
   "cell_type": "code",
   "execution_count": 6,
   "metadata": {},
   "outputs": [],
   "source": [
    "log_fit_coef = np.array([[ 9.41599146e+00], [-5.06317303e-08]], dtype=np.float64)"
   ]
  },
  {
   "cell_type": "markdown",
   "metadata": {},
   "source": [
    "## Train/Test"
   ]
  },
  {
   "cell_type": "code",
   "execution_count": 7,
   "metadata": {},
   "outputs": [],
   "source": [
    "# input: past 3 weeks\n",
    "Tx = 21\n",
    "# output: next 1 week\n",
    "Ty = 7\n",
    "# number of features\n",
    "features = [\"volume_norm\", \"log_diff\", \"month_sin\", \"month_cos\", \"year_sin\", \"year_cos\"]\n",
    "n = len(features)\n",
    "# size of train/test data\n",
    "m = df.shape[0] - (Tx + Ty)"
   ]
  },
  {
   "cell_type": "code",
   "execution_count": 8,
   "metadata": {},
   "outputs": [
    {
     "data": {
      "text/plain": [
       "((4121, 21, 6), dtype('float32'), (4121, 7), dtype('float32'))"
      ]
     },
     "execution_count": 8,
     "metadata": {},
     "output_type": "execute_result"
    }
   ],
   "source": [
    "X = np.zeros((m, Tx, n))\n",
    "y = np.zeros((m, Ty))\n",
    "\n",
    "for i in range(m):\n",
    "    X[i, :, :] = df[features].iloc[i:i+Tx].values\n",
    "    y[i, :] = df[\"log_diff\"].iloc[i+Tx: i+Tx+Ty].values\n",
    "\n",
    "X = X.astype(np.float32)\n",
    "y = y.astype(np.float32)\n",
    "\n",
    "X.shape, X.dtype, y.shape, y.dtype"
   ]
  },
  {
   "cell_type": "code",
   "execution_count": 9,
   "metadata": {},
   "outputs": [],
   "source": [
    "batch_size = 32\n",
    "train_size = int(X.shape[0] * 0.9)"
   ]
  },
  {
   "cell_type": "code",
   "execution_count": 10,
   "metadata": {},
   "outputs": [
    {
     "name": "stdout",
     "output_type": "stream",
     "text": [
      "X_train (3708, 21, 6)\n",
      "y_train (3708, 7)\n",
      "<BatchDataset shapes: ((None, 21, 6), (None, 7)), types: (tf.float32, tf.float32)>\n",
      "X_test (413, 21, 6)\n",
      "y_test (413, 7)\n",
      "<BatchDataset shapes: ((None, 21, 6), (None, 7)), types: (tf.float32, tf.float32)>\n"
     ]
    }
   ],
   "source": [
    "X_train = X[:train_size, :, :]\n",
    "y_train = y[:train_size, :]\n",
    "train_dataset = tf.data.Dataset.from_tensor_slices((X_train, y_train)).batch(batch_size)\n",
    "\n",
    "X_test = X[train_size:, :, :]\n",
    "y_test = y[train_size:, :]\n",
    "test_dataset = tf.data.Dataset.from_tensor_slices((X_test, y_test)).batch(batch_size)\n",
    "\n",
    "print(\"X_train\", X_train.shape)\n",
    "print(\"y_train\", y_train.shape)\n",
    "print(train_dataset)\n",
    "\n",
    "print(\"X_test\", X_test.shape)\n",
    "print(\"y_test\", y_test.shape)\n",
    "print(test_dataset)"
   ]
  },
  {
   "cell_type": "markdown",
   "metadata": {},
   "source": [
    "# Model"
   ]
  },
  {
   "cell_type": "code",
   "execution_count": 11,
   "metadata": {},
   "outputs": [],
   "source": [
    "def create_model(Tx, n, Ty, learning_rate=0.015, decay=0.0075):\n",
    "    X_in = layers.Input(shape=(Tx, n))\n",
    "    X = layers.LSTM(42, activation=\"relu\", return_sequences=False)(X_in)\n",
    "    X_out = layers.Dense(7, activation=\"relu\")(X)\n",
    "\n",
    "    model = tf.keras.Model(inputs=X_in, outputs=X_out)\n",
    "    # , decay=decay\n",
    "    opt = tf.optimizers.Adam(learning_rate=learning_rate)\n",
    "    model.compile(optimizer=opt, loss=tf.losses.MeanSquaredError(), metrics=[tf.metrics.MeanSquaredError()])\n",
    "\n",
    "    return model"
   ]
  },
  {
   "cell_type": "code",
   "execution_count": 12,
   "metadata": {},
   "outputs": [
    {
     "name": "stdout",
     "output_type": "stream",
     "text": [
      "WARNING:tensorflow:Layer lstm will not use cuDNN kernels since it doesn't meet the criteria. It will use a generic GPU kernel as fallback when running on GPU.\n",
      "Model: \"model\"\n",
      "_________________________________________________________________\n",
      " Layer (type)                Output Shape              Param #   \n",
      "=================================================================\n",
      " input_1 (InputLayer)        [(None, 21, 6)]           0         \n",
      "                                                                 \n",
      " lstm (LSTM)                 (None, 42)                8232      \n",
      "                                                                 \n",
      " dense (Dense)               (None, 7)                 301       \n",
      "                                                                 \n",
      "=================================================================\n",
      "Total params: 8,533\n",
      "Trainable params: 8,533\n",
      "Non-trainable params: 0\n",
      "_________________________________________________________________\n"
     ]
    }
   ],
   "source": [
    "model = create_model(Tx, n, Ty, learning_rate=0.02, decay=0.005)\n",
    "model.summary()"
   ]
  },
  {
   "cell_type": "code",
   "execution_count": 13,
   "metadata": {},
   "outputs": [
    {
     "name": "stdout",
     "output_type": "stream",
     "text": [
      "Epoch 1/20\n",
      "116/116 [==============================] - 6s 45ms/step - loss: 0.7230 - mean_squared_error: 0.7230 - val_loss: 1.4624 - val_mean_squared_error: 1.4624\n",
      "Epoch 2/20\n",
      "116/116 [==============================] - 5s 43ms/step - loss: 0.7179 - mean_squared_error: 0.7179 - val_loss: 1.4624 - val_mean_squared_error: 1.4624\n",
      "Epoch 3/20\n",
      "116/116 [==============================] - 5s 45ms/step - loss: 0.7179 - mean_squared_error: 0.7179 - val_loss: 1.4624 - val_mean_squared_error: 1.4624\n",
      "Epoch 4/20\n",
      "116/116 [==============================] - 6s 48ms/step - loss: 0.7179 - mean_squared_error: 0.7179 - val_loss: 1.4624 - val_mean_squared_error: 1.4624\n",
      "Epoch 5/20\n",
      "116/116 [==============================] - 6s 49ms/step - loss: 0.7179 - mean_squared_error: 0.7179 - val_loss: 1.4624 - val_mean_squared_error: 1.4624\n",
      "Epoch 6/20\n",
      "116/116 [==============================] - 6s 49ms/step - loss: 0.7179 - mean_squared_error: 0.7179 - val_loss: 1.4624 - val_mean_squared_error: 1.4624\n",
      "Epoch 7/20\n",
      "116/116 [==============================] - 6s 48ms/step - loss: 0.7179 - mean_squared_error: 0.7179 - val_loss: 1.4624 - val_mean_squared_error: 1.4624\n",
      "Epoch 8/20\n",
      "116/116 [==============================] - 5s 47ms/step - loss: 0.7179 - mean_squared_error: 0.7179 - val_loss: 1.4624 - val_mean_squared_error: 1.4624\n",
      "Epoch 9/20\n",
      "116/116 [==============================] - 5s 47ms/step - loss: 0.7179 - mean_squared_error: 0.7179 - val_loss: 1.4624 - val_mean_squared_error: 1.4624\n",
      "Epoch 10/20\n",
      "116/116 [==============================] - 5s 46ms/step - loss: 0.7179 - mean_squared_error: 0.7179 - val_loss: 1.4624 - val_mean_squared_error: 1.4624\n",
      "Epoch 11/20\n",
      "116/116 [==============================] - 5s 46ms/step - loss: 0.7179 - mean_squared_error: 0.7179 - val_loss: 1.4624 - val_mean_squared_error: 1.4624\n",
      "Epoch 12/20\n",
      "116/116 [==============================] - 5s 45ms/step - loss: 0.7179 - mean_squared_error: 0.7179 - val_loss: 1.4624 - val_mean_squared_error: 1.4624\n",
      "Epoch 13/20\n",
      "116/116 [==============================] - 6s 48ms/step - loss: 0.7179 - mean_squared_error: 0.7179 - val_loss: 1.4624 - val_mean_squared_error: 1.4624\n",
      "Epoch 14/20\n",
      "116/116 [==============================] - 5s 47ms/step - loss: 0.7179 - mean_squared_error: 0.7179 - val_loss: 1.4624 - val_mean_squared_error: 1.4624\n",
      "Epoch 15/20\n",
      "116/116 [==============================] - 6s 48ms/step - loss: 0.7179 - mean_squared_error: 0.7179 - val_loss: 1.4624 - val_mean_squared_error: 1.4624\n",
      "Epoch 16/20\n",
      "116/116 [==============================] - 5s 45ms/step - loss: 0.7179 - mean_squared_error: 0.7179 - val_loss: 1.4624 - val_mean_squared_error: 1.4624\n",
      "Epoch 17/20\n",
      "116/116 [==============================] - 5s 45ms/step - loss: 0.7179 - mean_squared_error: 0.7179 - val_loss: 1.4624 - val_mean_squared_error: 1.4624\n",
      "Epoch 18/20\n",
      "116/116 [==============================] - 5s 45ms/step - loss: 0.7179 - mean_squared_error: 0.7179 - val_loss: 1.4624 - val_mean_squared_error: 1.4624\n",
      "Epoch 19/20\n",
      "116/116 [==============================] - 6s 48ms/step - loss: 0.7179 - mean_squared_error: 0.7179 - val_loss: 1.4624 - val_mean_squared_error: 1.4624\n",
      "Epoch 20/20\n",
      " 19/116 [===>..........................] - ETA: 3s - loss: 1.0830 - mean_squared_error: 1.0830"
     ]
    }
   ],
   "source": [
    "history = model.fit(train_dataset, validation_data=test_dataset, epochs=20)"
   ]
  },
  {
   "cell_type": "code",
   "execution_count": null,
   "metadata": {},
   "outputs": [
    {
     "data": {
      "image/png": "[encoded data removed]",
      "text/plain": [
       "<Figure size 1440x576 with 2 Axes>"
      ]
     },
     "metadata": {
      "needs_background": "light"
     },
     "output_type": "display_data"
    }
   ],
   "source": [
    "fig, axes = plt.subplots(2, 1)\n",
    "axes[0].plot(history.history[\"loss\"], label=\"loss\")\n",
    "axes[0].plot(history.history[\"val_loss\"], label=\"val_loss\")\n",
    "axes[0].legend()\n",
    "axes[1].plot(history.history[\"mean_squared_error\"], label=\"mean_squared_error\")\n",
    "axes[1].plot(history.history[\"val_mean_squared_error\"], label=\"val_mean_squared_error\")\n",
    "axes[1].legend()\n",
    "plt.show()"
   ]
  },
  {
   "cell_type": "code",
   "execution_count": null,
   "metadata": {},
   "outputs": [],
   "source": [
    "model.save(\"saved_model/v1.h5\")"
   ]
  },
  {
   "cell_type": "code",
   "execution_count": null,
   "metadata": {},
   "outputs": [
    {
     "data": {
      "text/plain": [
       "array([1.5524166, 0.       , 0.       , 0.       , 1.5781425, 1.6518232,\n",
       "       1.690831 ], dtype=float32)"
      ]
     },
     "execution_count": 15,
     "metadata": {},
     "output_type": "execute_result"
    }
   ],
   "source": [
    "model.predict(X[-1:])[0]"
   ]
  },
  {
   "cell_type": "code",
   "execution_count": null,
   "metadata": {},
   "outputs": [
    {
     "data": {
      "text/plain": [
       "array([1.5340364, 1.553648 , 1.5813938, 1.5644488, 1.522616 , 1.5448217,\n",
       "       1.5378233], dtype=float32)"
      ]
     },
     "execution_count": 16,
     "metadata": {},
     "output_type": "execute_result"
    }
   ],
   "source": [
    "y[-1, :]"
   ]
  },
  {
   "cell_type": "code",
   "execution_count": null,
   "metadata": {},
   "outputs": [
    {
     "data": {
      "text/plain": [
       "array([-0.6736295 , -0.87817454, -0.0948809 , -0.99548864, -0.26645967,\n",
       "       -0.9638461 ], dtype=float32)"
      ]
     },
     "execution_count": 17,
     "metadata": {},
     "output_type": "execute_result"
    }
   ],
   "source": [
    "X[0,0]"
   ]
  },
  {
   "cell_type": "code",
   "execution_count": null,
   "metadata": {},
   "outputs": [
    {
     "ename": "SyntaxError",
     "evalue": "invalid syntax (Temp/ipykernel_3060/263034176.py, line 1)",
     "output_type": "error",
     "traceback": [
      "\u001b[1;36m  File \u001b[1;32m\"C:\\Users\\dimah\\AppData\\Local\\Temp/ipykernel_3060/263034176.py\"\u001b[1;36m, line \u001b[1;32m1\u001b[0m\n\u001b[1;33m    y = y[]\u001b[0m\n\u001b[1;37m          ^\u001b[0m\n\u001b[1;31mSyntaxError\u001b[0m\u001b[1;31m:\u001b[0m invalid syntax\n"
     ]
    }
   ],
   "source": [
    "y = y[]\n",
    "for i in range(0, m, 7):\n",
    "    plt.plot(list(range(i,i+7)), y[i, :], label=\"true\")\n",
    "    plt.plot(list(range(i,i+7)), model.predict(X[i:])[0], label=\"predicted\")\n",
    "plt.legend()\n",
    "plt.show() "
   ]
  },
  {
   "cell_type": "code",
   "execution_count": null,
   "metadata": {},
   "outputs": [
    {
     "data": {
      "text/plain": [
       "array([[[-0.6736295 , -0.87817454, -0.0948809 , -0.99548864,\n",
       "         -0.26645967, -0.9638461 ],\n",
       "        [-0.67182136, -0.8841897 , -0.29691198, -0.95490485,\n",
       "         -0.28300026, -0.95911986],\n",
       "        [-0.67296535, -0.890203  , -0.4863351 , -0.8737724 ,\n",
       "         -0.2994571 , -0.9541098 ],\n",
       "        ...,\n",
       "        [-0.65536326, -0.98615915,  0.6203831 ,  0.78429896,\n",
       "         -0.5474952 , -0.8368088 ],\n",
       "        [-0.6687585 , -0.99214035,  0.7679692 ,  0.6404868 ,\n",
       "         -0.56180894, -0.82726705],\n",
       "        [-0.6642566 , -0.99811965,  0.8829446 ,  0.46947727,\n",
       "         -0.5759564 , -0.81748044]],\n",
       "\n",
       "       [[-0.67182136, -0.8841897 , -0.29691198, -0.95490485,\n",
       "         -0.28300026, -0.95911986],\n",
       "        [-0.67296535, -0.890203  , -0.4863351 , -0.8737724 ,\n",
       "         -0.2994571 , -0.9541098 ],\n",
       "        [-0.67178446, -0.8962144 , -0.65510666, -0.7555364 ,\n",
       "         -0.3158253 , -0.9488174 ],\n",
       "        ...,\n",
       "        [-0.6687585 , -0.99214035,  0.7679692 ,  0.6404868 ,\n",
       "         -0.56180894, -0.82726705],\n",
       "        [-0.6642566 , -0.99811965,  0.8829446 ,  0.46947727,\n",
       "         -0.5759564 , -0.81748044],\n",
       "        [-0.6658064 , -1.0040971 ,  0.9604269 ,  0.27853203,\n",
       "         -0.5899334 , -0.8074519 ]],\n",
       "\n",
       "       [[-0.67296535, -0.890203  , -0.4863351 , -0.8737724 ,\n",
       "         -0.2994571 , -0.9541098 ],\n",
       "        [-0.67178446, -0.8962144 , -0.65510666, -0.7555364 ,\n",
       "         -0.3158253 , -0.9488174 ],\n",
       "        [-0.665954  , -0.90222394, -0.7960601 , -0.6052176 ,\n",
       "         -0.3321001 , -0.94324416],\n",
       "        ...,\n",
       "        [-0.6642566 , -0.99811965,  0.8829446 ,  0.46947727,\n",
       "         -0.5759564 , -0.81748044],\n",
       "        [-0.6658064 , -1.0040971 ,  0.9604269 ,  0.27853203,\n",
       "         -0.5899334 , -0.8074519 ],\n",
       "        [-0.62362796, -1.0100727 ,  0.9971261 ,  0.07575934,\n",
       "         -0.60373586, -0.79718447]],\n",
       "\n",
       "       ...,\n",
       "\n",
       "       [[-0.46310616,  1.5914121 , -0.92618006,  0.3770815 ,\n",
       "         -0.91107196,  0.4122473 ],\n",
       "        [-0.3487851 ,  1.5598594 , -0.8292251 ,  0.5589148 ,\n",
       "         -0.9038457 ,  0.4278585 ],\n",
       "        [-0.34745663,  1.5958881 , -0.69705826,  0.7170145 ,\n",
       "         -0.896352  ,  0.44334307],\n",
       "        ...,\n",
       "        [-0.5619654 ,  1.6568745 ,  0.57282317, -0.81967896,\n",
       "         -0.7421195 ,  0.6702676 ],\n",
       "        [-0.54853326,  1.6739545 ,  0.3926513 , -0.91968745,\n",
       "         -0.7304798 ,  0.68293434],\n",
       "        [-0.4763907 ,  1.6443573 ,  0.19580603, -0.9806427 ,\n",
       "         -0.71862394,  0.6953989 ]],\n",
       "\n",
       "       [[-0.3487851 ,  1.5598594 , -0.8292251 ,  0.5589148 ,\n",
       "         -0.9038457 ,  0.4278585 ],\n",
       "        [-0.34745663,  1.5958881 , -0.69705826,  0.7170145 ,\n",
       "         -0.896352  ,  0.44334307],\n",
       "        [-0.44000575,  1.6229156 , -0.5352918 ,  0.8446672 ,\n",
       "         -0.888593  ,  0.45869645],\n",
       "        ...,\n",
       "        [-0.54853326,  1.6739545 ,  0.3926513 , -0.91968745,\n",
       "         -0.7304798 ,  0.68293434],\n",
       "        [-0.4763907 ,  1.6443573 ,  0.19580603, -0.9806427 ,\n",
       "         -0.71862394,  0.6953989 ],\n",
       "        [-0.24822836,  1.5876026 , -0.00935387, -0.99995625,\n",
       "         -0.70655537,  0.70765775]],\n",
       "\n",
       "       [[-0.34745663,  1.5958881 , -0.69705826,  0.7170145 ,\n",
       "         -0.896352  ,  0.44334307],\n",
       "        [-0.44000575,  1.6229156 , -0.5352918 ,  0.8446672 ,\n",
       "         -0.888593  ,  0.45869645],\n",
       "        [-0.52443653,  1.6164162 , -0.35079494,  0.93645227,\n",
       "         -0.88057107,  0.47391412],\n",
       "        ...,\n",
       "        [-0.4763907 ,  1.6443573 ,  0.19580603, -0.9806427 ,\n",
       "         -0.71862394,  0.6953989 ],\n",
       "        [-0.24822836,  1.5876026 , -0.00935387, -0.99995625,\n",
       "         -0.70655537,  0.70765775],\n",
       "        [-0.4011115 ,  1.5922277 , -0.21411657, -0.97680813,\n",
       "         -0.69427776,  0.7197072 ]]], dtype=float32)"
      ]
     },
     "execution_count": 18,
     "metadata": {},
     "output_type": "execute_result"
    }
   ],
   "source": [
    "X"
   ]
  }
 ],
 "metadata": {
  "interpreter": {
   "hash": "3619d5c4af2d6b6ace9b5f845aef04faffbdd23ea44365d7398b8fd3b50e9091"
  },
  "kernelspec": {
   "display_name": "Python 3.9.7 64-bit ('tf2.7': conda)",
   "language": "python",
   "name": "python3"
  },
  "language_info": {
   "codemirror_mode": {
    "name": "ipython",
    "version": 3
   },
   "file_extension": ".py",
   "mimetype": "text/x-python",
   "name": "python",
   "nbconvert_exporter": "python",
   "pygments_lexer": "ipython3",
   "version": "3.9.7"
  },
  "orig_nbformat": 4
 },
 "nbformat": 4,
 "nbformat_minor": 2
}
