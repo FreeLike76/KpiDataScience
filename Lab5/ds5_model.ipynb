{
 "cells": [
  {
   "cell_type": "markdown",
   "metadata": {},
   "source": [
    "# Data Science\n",
    "- Student: Dmytro Geleshko\n",
    "- Group: IP-91\n",
    "- Var: 6"
   ]
  },
  {
   "cell_type": "markdown",
   "metadata": {},
   "source": [
    "# Imports"
   ]
  },
  {
   "cell_type": "code",
   "execution_count": 17,
   "metadata": {},
   "outputs": [],
   "source": [
    "import numpy as np\n",
    "import matplotlib.pyplot as plt\n",
    "import pandas as pd\n",
    "import seaborn as sns\n",
    "import tensorflow as tf\n",
    "import tensorflow.keras as keras\n",
    "import tensorflow.keras.layers as layers"
   ]
  },
  {
   "cell_type": "markdown",
   "metadata": {},
   "source": [
    "# Config"
   ]
  },
  {
   "cell_type": "code",
   "execution_count": 18,
   "metadata": {},
   "outputs": [],
   "source": [
    "# var 6\n",
    "np.random.seed(6)\n",
    "plt.rcParams[\"figure.figsize\"] = (20, 8)\n",
    "pd.set_option(\"display.max_columns\", None)\n",
    "pd.options.display.float_format = \"{:,.3f}\".format"
   ]
  },
  {
   "cell_type": "markdown",
   "metadata": {},
   "source": [
    "# Load data"
   ]
  },
  {
   "cell_type": "code",
   "execution_count": 19,
   "metadata": {},
   "outputs": [
    {
     "data": {
      "text/html": [
       "<div>\n",
       "<style scoped>\n",
       "    .dataframe tbody tr th:only-of-type {\n",
       "        vertical-align: middle;\n",
       "    }\n",
       "\n",
       "    .dataframe tbody tr th {\n",
       "        vertical-align: top;\n",
       "    }\n",
       "\n",
       "    .dataframe thead th {\n",
       "        text-align: right;\n",
       "    }\n",
       "</style>\n",
       "<table border=\"1\" class=\"dataframe\">\n",
       "  <thead>\n",
       "    <tr style=\"text-align: right;\">\n",
       "      <th></th>\n",
       "      <th>volume_norm</th>\n",
       "      <th>log_diff</th>\n",
       "      <th>day_sin</th>\n",
       "      <th>day_cos</th>\n",
       "      <th>year_sin</th>\n",
       "      <th>year_cos</th>\n",
       "    </tr>\n",
       "    <tr>\n",
       "      <th>date</th>\n",
       "      <th></th>\n",
       "      <th></th>\n",
       "      <th></th>\n",
       "      <th></th>\n",
       "      <th></th>\n",
       "      <th></th>\n",
       "    </tr>\n",
       "  </thead>\n",
       "  <tbody>\n",
       "    <tr>\n",
       "      <th>2010-07-18</th>\n",
       "      <td>-0.674</td>\n",
       "      <td>-0.878</td>\n",
       "      <td>-0.000</td>\n",
       "      <td>1.000</td>\n",
       "      <td>-0.266</td>\n",
       "      <td>-0.964</td>\n",
       "    </tr>\n",
       "    <tr>\n",
       "      <th>2010-07-19</th>\n",
       "      <td>-0.672</td>\n",
       "      <td>-0.884</td>\n",
       "      <td>-0.000</td>\n",
       "      <td>1.000</td>\n",
       "      <td>-0.283</td>\n",
       "      <td>-0.959</td>\n",
       "    </tr>\n",
       "    <tr>\n",
       "      <th>2010-07-20</th>\n",
       "      <td>-0.673</td>\n",
       "      <td>-0.890</td>\n",
       "      <td>-0.000</td>\n",
       "      <td>1.000</td>\n",
       "      <td>-0.299</td>\n",
       "      <td>-0.954</td>\n",
       "    </tr>\n",
       "    <tr>\n",
       "      <th>2010-07-21</th>\n",
       "      <td>-0.672</td>\n",
       "      <td>-0.896</td>\n",
       "      <td>0.000</td>\n",
       "      <td>1.000</td>\n",
       "      <td>-0.316</td>\n",
       "      <td>-0.949</td>\n",
       "    </tr>\n",
       "    <tr>\n",
       "      <th>2010-07-22</th>\n",
       "      <td>-0.666</td>\n",
       "      <td>-0.902</td>\n",
       "      <td>-0.000</td>\n",
       "      <td>1.000</td>\n",
       "      <td>-0.332</td>\n",
       "      <td>-0.943</td>\n",
       "    </tr>\n",
       "    <tr>\n",
       "      <th>...</th>\n",
       "      <td>...</td>\n",
       "      <td>...</td>\n",
       "      <td>...</td>\n",
       "      <td>...</td>\n",
       "      <td>...</td>\n",
       "      <td>...</td>\n",
       "    </tr>\n",
       "    <tr>\n",
       "      <th>2021-11-21</th>\n",
       "      <td>-0.523</td>\n",
       "      <td>1.564</td>\n",
       "      <td>-0.000</td>\n",
       "      <td>1.000</td>\n",
       "      <td>-0.643</td>\n",
       "      <td>0.766</td>\n",
       "    </tr>\n",
       "    <tr>\n",
       "      <th>2021-11-22</th>\n",
       "      <td>-0.392</td>\n",
       "      <td>1.523</td>\n",
       "      <td>-0.000</td>\n",
       "      <td>1.000</td>\n",
       "      <td>-0.630</td>\n",
       "      <td>0.777</td>\n",
       "    </tr>\n",
       "    <tr>\n",
       "      <th>2021-11-23</th>\n",
       "      <td>-0.406</td>\n",
       "      <td>1.545</td>\n",
       "      <td>-0.000</td>\n",
       "      <td>1.000</td>\n",
       "      <td>-0.616</td>\n",
       "      <td>0.787</td>\n",
       "    </tr>\n",
       "    <tr>\n",
       "      <th>2021-11-24</th>\n",
       "      <td>-0.465</td>\n",
       "      <td>1.538</td>\n",
       "      <td>-0.000</td>\n",
       "      <td>1.000</td>\n",
       "      <td>-0.603</td>\n",
       "      <td>0.798</td>\n",
       "    </tr>\n",
       "    <tr>\n",
       "      <th>2021-11-25</th>\n",
       "      <td>-0.460</td>\n",
       "      <td>1.555</td>\n",
       "      <td>-0.000</td>\n",
       "      <td>1.000</td>\n",
       "      <td>-0.589</td>\n",
       "      <td>0.808</td>\n",
       "    </tr>\n",
       "  </tbody>\n",
       "</table>\n",
       "<p>4149 rows × 6 columns</p>\n",
       "</div>"
      ],
      "text/plain": [
       "            volume_norm  log_diff  day_sin  day_cos  year_sin  year_cos\n",
       "date                                                                   \n",
       "2010-07-18       -0.674    -0.878   -0.000    1.000    -0.266    -0.964\n",
       "2010-07-19       -0.672    -0.884   -0.000    1.000    -0.283    -0.959\n",
       "2010-07-20       -0.673    -0.890   -0.000    1.000    -0.299    -0.954\n",
       "2010-07-21       -0.672    -0.896    0.000    1.000    -0.316    -0.949\n",
       "2010-07-22       -0.666    -0.902   -0.000    1.000    -0.332    -0.943\n",
       "...                 ...       ...      ...      ...       ...       ...\n",
       "2021-11-21       -0.523     1.564   -0.000    1.000    -0.643     0.766\n",
       "2021-11-22       -0.392     1.523   -0.000    1.000    -0.630     0.777\n",
       "2021-11-23       -0.406     1.545   -0.000    1.000    -0.616     0.787\n",
       "2021-11-24       -0.465     1.538   -0.000    1.000    -0.603     0.798\n",
       "2021-11-25       -0.460     1.555   -0.000    1.000    -0.589     0.808\n",
       "\n",
       "[4149 rows x 6 columns]"
      ]
     },
     "execution_count": 19,
     "metadata": {},
     "output_type": "execute_result"
    }
   ],
   "source": [
    "df = pd.read_csv(\"mod_data.csv\", index_col=\"date\", parse_dates=True, dtype=np.float32)\n",
    "df.drop(columns=[\"close\", \"volume\", \"log_close\", \"log_fit\"], inplace=True)\n",
    "df"
   ]
  },
  {
   "cell_type": "code",
   "execution_count": 20,
   "metadata": {},
   "outputs": [
    {
     "data": {
      "text/plain": [
       "(dtype('<M8[ns]'),\n",
       " volume_norm    float32\n",
       " log_diff       float32\n",
       " day_sin        float32\n",
       " day_cos        float32\n",
       " year_sin       float32\n",
       " year_cos       float32\n",
       " dtype: object)"
      ]
     },
     "execution_count": 20,
     "metadata": {},
     "output_type": "execute_result"
    }
   ],
   "source": [
    "df.index.dtype, df.dtypes"
   ]
  },
  {
   "cell_type": "code",
   "execution_count": 21,
   "metadata": {},
   "outputs": [],
   "source": [
    "log_fit_coef = np.array([[ 9.41599146e+00], [-5.06317303e-08]], dtype=np.float64)"
   ]
  },
  {
   "cell_type": "markdown",
   "metadata": {},
   "source": [
    "## Test"
   ]
  },
  {
   "cell_type": "code",
   "execution_count": 23,
   "metadata": {},
   "outputs": [],
   "source": [
    "def create_model(Tx, features, Ty):\n",
    "    X_in = layers.Input(shape=(Tx, features))\n",
    "\n",
    "    X = layers.LSTM(42, activation=\"relu\", return_sequences=False)(X_in)\n",
    "    \n",
    "    X_out = layers.Dense(7, activation=\"relu\")(X)\n",
    "\n",
    "    return tf.keras.Model(inputs=X_in, outputs=X_out)"
   ]
  },
  {
   "cell_type": "code",
   "execution_count": 22,
   "metadata": {},
   "outputs": [],
   "source": [
    "X_features = [\"volume_norm\", \"log_diff\", \"day_sin\", \"day_cos\", \"year_sin\", \"year_cos\"]"
   ]
  },
  {
   "cell_type": "code",
   "execution_count": 24,
   "metadata": {},
   "outputs": [
    {
     "name": "stdout",
     "output_type": "stream",
     "text": [
      "Model: \"model_1\"\n",
      "_________________________________________________________________\n",
      " Layer (type)                Output Shape              Param #   \n",
      "=================================================================\n",
      " input_2 (InputLayer)        [(None, 21, 6)]           0         \n",
      "                                                                 \n",
      " lstm_1 (LSTM)               (None, 42)                8232      \n",
      "                                                                 \n",
      " dense_1 (Dense)             (None, 7)                 301       \n",
      "                                                                 \n",
      "=================================================================\n",
      "Total params: 8,533\n",
      "Trainable params: 8,533\n",
      "Non-trainable params: 0\n",
      "_________________________________________________________________\n"
     ]
    }
   ],
   "source": [
    "# input: past 3 weeks\n",
    "Tx = 21\n",
    "# output: next 1 week\n",
    "Ty = 7\n",
    "\n",
    "model = create_model(Tx, len(X_features), Ty)\n",
    "model.summary()"
   ]
  },
  {
   "cell_type": "code",
   "execution_count": 38,
   "metadata": {},
   "outputs": [
    {
     "data": {
      "text/plain": [
       "((4121, 21, 6), (4121, 7))"
      ]
     },
     "execution_count": 38,
     "metadata": {},
     "output_type": "execute_result"
    }
   ],
   "source": [
    "# X is (m, Tx, n)\n",
    "# y is (m, Ty)\n",
    "# where m - data size, Tx - input width, n - features, Ty - output width\n",
    " \n",
    "X = np.zeros((df.shape[0] - (Tx + Ty), Tx, len(X_features)))\n",
    "y = np.zeros((df.shape[0] - (Tx + Ty), Ty))\n",
    "\n",
    "for i in range(y.shape[0]):\n",
    "    X[i, :, :] = df[X_features].iloc[i:i+Tx]\n",
    "    y[i, :] = df[\"log_diff\"].iloc[i+Tx: i+Tx+Ty]\n",
    "\n",
    "X.shape, y.shape"
   ]
  },
  {
   "cell_type": "code",
   "execution_count": 40,
   "metadata": {},
   "outputs": [
    {
     "name": "stdout",
     "output_type": "stream",
     "text": [
      "X_train (3708, 21, 6)\n",
      "y_train (3708, 7)\n",
      "X_test (413, 21, 6)\n",
      "y_test (413, 7)\n"
     ]
    }
   ],
   "source": [
    "train_size = int(X.shape[0] * 0.9)\n",
    "\n",
    "X_train = X[:train_size, :, :]\n",
    "y_train = y[:train_size, :]\n",
    "\n",
    "X_test = X[train_size:, :, :]\n",
    "y_test = y[train_size:, :]\n",
    "\n",
    "print(\"X_train\", X_train.shape)\n",
    "print(\"y_train\", y_train.shape)\n",
    "\n",
    "print(\"X_test\", X_test.shape)\n",
    "print(\"y_test\", y_test.shape)"
   ]
  },
  {
   "cell_type": "code",
   "execution_count": 25,
   "metadata": {},
   "outputs": [
    {
     "name": "stderr",
     "output_type": "stream",
     "text": [
      "E:\\Programs\\Anaconda\\envs\\tf2.7\\lib\\site-packages\\keras\\optimizer_v2\\adam.py:105: UserWarning: The `lr` argument is deprecated, use `learning_rate` instead.\n",
      "  super(Adam, self).__init__(name, **kwargs)\n"
     ]
    }
   ],
   "source": [
    "opt = tf.optimizers.Adam(learning_rate=0.01, decay=0.01)\n",
    "model.compile(optimizer=opt, loss=tf.losses.MeanSquaredError(), metrics=[tf.metrics.MeanSquaredError()])"
   ]
  }
 ],
 "metadata": {
  "interpreter": {
   "hash": "3619d5c4af2d6b6ace9b5f845aef04faffbdd23ea44365d7398b8fd3b50e9091"
  },
  "kernelspec": {
   "display_name": "Python 3.9.7 64-bit ('tf2.7': conda)",
   "language": "python",
   "name": "python3"
  },
  "language_info": {
   "codemirror_mode": {
    "name": "ipython",
    "version": 3
   },
   "file_extension": ".py",
   "mimetype": "text/x-python",
   "name": "python",
   "nbconvert_exporter": "python",
   "pygments_lexer": "ipython3",
   "version": "3.9.7"
  },
  "orig_nbformat": 4
 },
 "nbformat": 4,
 "nbformat_minor": 2
}
