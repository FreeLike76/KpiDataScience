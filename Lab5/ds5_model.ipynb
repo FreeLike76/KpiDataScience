{
 "cells": [
  {
   "cell_type": "markdown",
   "metadata": {},
   "source": [
    "# Data Science\n",
    "- Student: Dmytro Geleshko\n",
    "- Group: IP-91\n",
    "- Var: 6"
   ]
  },
  {
   "cell_type": "markdown",
   "metadata": {},
   "source": [
    "# Imports"
   ]
  },
  {
   "cell_type": "code",
   "execution_count": 12,
   "metadata": {},
   "outputs": [],
   "source": [
    "import numpy as np\n",
    "import matplotlib.pyplot as plt\n",
    "import pandas as pd\n",
    "import seaborn as sns\n",
    "import tensorflow as tf\n",
    "import tensorflow.keras as keras\n",
    "import tensorflow.keras.layers as layers"
   ]
  },
  {
   "cell_type": "markdown",
   "metadata": {},
   "source": [
    "# Config"
   ]
  },
  {
   "cell_type": "code",
   "execution_count": 13,
   "metadata": {},
   "outputs": [],
   "source": [
    "# var 6\n",
    "np.random.seed(6)\n",
    "plt.rcParams[\"figure.figsize\"] = (20, 8)\n",
    "pd.set_option(\"display.max_columns\", None)\n",
    "pd.options.display.float_format = \"{:,.3f}\".format"
   ]
  },
  {
   "cell_type": "markdown",
   "metadata": {},
   "source": [
    "# Load data"
   ]
  },
  {
   "cell_type": "code",
   "execution_count": 14,
   "metadata": {},
   "outputs": [
    {
     "data": {
      "text/html": [
       "<div>\n",
       "<style scoped>\n",
       "    .dataframe tbody tr th:only-of-type {\n",
       "        vertical-align: middle;\n",
       "    }\n",
       "\n",
       "    .dataframe tbody tr th {\n",
       "        vertical-align: top;\n",
       "    }\n",
       "\n",
       "    .dataframe thead th {\n",
       "        text-align: right;\n",
       "    }\n",
       "</style>\n",
       "<table border=\"1\" class=\"dataframe\">\n",
       "  <thead>\n",
       "    <tr style=\"text-align: right;\">\n",
       "      <th></th>\n",
       "      <th>volume_norm</th>\n",
       "      <th>log_diff</th>\n",
       "      <th>day_sin</th>\n",
       "      <th>day_cos</th>\n",
       "      <th>year_sin</th>\n",
       "      <th>year_cos</th>\n",
       "    </tr>\n",
       "    <tr>\n",
       "      <th>date</th>\n",
       "      <th></th>\n",
       "      <th></th>\n",
       "      <th></th>\n",
       "      <th></th>\n",
       "      <th></th>\n",
       "      <th></th>\n",
       "    </tr>\n",
       "  </thead>\n",
       "  <tbody>\n",
       "    <tr>\n",
       "      <th>2010-07-18</th>\n",
       "      <td>-0.674</td>\n",
       "      <td>-0.878</td>\n",
       "      <td>-0.000</td>\n",
       "      <td>1.000</td>\n",
       "      <td>-0.266</td>\n",
       "      <td>-0.964</td>\n",
       "    </tr>\n",
       "    <tr>\n",
       "      <th>2010-07-19</th>\n",
       "      <td>-0.672</td>\n",
       "      <td>-0.884</td>\n",
       "      <td>-0.000</td>\n",
       "      <td>1.000</td>\n",
       "      <td>-0.283</td>\n",
       "      <td>-0.959</td>\n",
       "    </tr>\n",
       "    <tr>\n",
       "      <th>2010-07-20</th>\n",
       "      <td>-0.673</td>\n",
       "      <td>-0.890</td>\n",
       "      <td>-0.000</td>\n",
       "      <td>1.000</td>\n",
       "      <td>-0.299</td>\n",
       "      <td>-0.954</td>\n",
       "    </tr>\n",
       "    <tr>\n",
       "      <th>2010-07-21</th>\n",
       "      <td>-0.672</td>\n",
       "      <td>-0.896</td>\n",
       "      <td>0.000</td>\n",
       "      <td>1.000</td>\n",
       "      <td>-0.316</td>\n",
       "      <td>-0.949</td>\n",
       "    </tr>\n",
       "    <tr>\n",
       "      <th>2010-07-22</th>\n",
       "      <td>-0.666</td>\n",
       "      <td>-0.902</td>\n",
       "      <td>-0.000</td>\n",
       "      <td>1.000</td>\n",
       "      <td>-0.332</td>\n",
       "      <td>-0.943</td>\n",
       "    </tr>\n",
       "    <tr>\n",
       "      <th>...</th>\n",
       "      <td>...</td>\n",
       "      <td>...</td>\n",
       "      <td>...</td>\n",
       "      <td>...</td>\n",
       "      <td>...</td>\n",
       "      <td>...</td>\n",
       "    </tr>\n",
       "    <tr>\n",
       "      <th>2021-11-21</th>\n",
       "      <td>-0.523</td>\n",
       "      <td>1.564</td>\n",
       "      <td>-0.000</td>\n",
       "      <td>1.000</td>\n",
       "      <td>-0.643</td>\n",
       "      <td>0.766</td>\n",
       "    </tr>\n",
       "    <tr>\n",
       "      <th>2021-11-22</th>\n",
       "      <td>-0.392</td>\n",
       "      <td>1.523</td>\n",
       "      <td>-0.000</td>\n",
       "      <td>1.000</td>\n",
       "      <td>-0.630</td>\n",
       "      <td>0.777</td>\n",
       "    </tr>\n",
       "    <tr>\n",
       "      <th>2021-11-23</th>\n",
       "      <td>-0.406</td>\n",
       "      <td>1.545</td>\n",
       "      <td>-0.000</td>\n",
       "      <td>1.000</td>\n",
       "      <td>-0.616</td>\n",
       "      <td>0.787</td>\n",
       "    </tr>\n",
       "    <tr>\n",
       "      <th>2021-11-24</th>\n",
       "      <td>-0.465</td>\n",
       "      <td>1.538</td>\n",
       "      <td>-0.000</td>\n",
       "      <td>1.000</td>\n",
       "      <td>-0.603</td>\n",
       "      <td>0.798</td>\n",
       "    </tr>\n",
       "    <tr>\n",
       "      <th>2021-11-25</th>\n",
       "      <td>-0.460</td>\n",
       "      <td>1.555</td>\n",
       "      <td>-0.000</td>\n",
       "      <td>1.000</td>\n",
       "      <td>-0.589</td>\n",
       "      <td>0.808</td>\n",
       "    </tr>\n",
       "  </tbody>\n",
       "</table>\n",
       "<p>4149 rows × 6 columns</p>\n",
       "</div>"
      ],
      "text/plain": [
       "            volume_norm  log_diff  day_sin  day_cos  year_sin  year_cos\n",
       "date                                                                   \n",
       "2010-07-18       -0.674    -0.878   -0.000    1.000    -0.266    -0.964\n",
       "2010-07-19       -0.672    -0.884   -0.000    1.000    -0.283    -0.959\n",
       "2010-07-20       -0.673    -0.890   -0.000    1.000    -0.299    -0.954\n",
       "2010-07-21       -0.672    -0.896    0.000    1.000    -0.316    -0.949\n",
       "2010-07-22       -0.666    -0.902   -0.000    1.000    -0.332    -0.943\n",
       "...                 ...       ...      ...      ...       ...       ...\n",
       "2021-11-21       -0.523     1.564   -0.000    1.000    -0.643     0.766\n",
       "2021-11-22       -0.392     1.523   -0.000    1.000    -0.630     0.777\n",
       "2021-11-23       -0.406     1.545   -0.000    1.000    -0.616     0.787\n",
       "2021-11-24       -0.465     1.538   -0.000    1.000    -0.603     0.798\n",
       "2021-11-25       -0.460     1.555   -0.000    1.000    -0.589     0.808\n",
       "\n",
       "[4149 rows x 6 columns]"
      ]
     },
     "execution_count": 14,
     "metadata": {},
     "output_type": "execute_result"
    }
   ],
   "source": [
    "df = pd.read_csv(\"mod_data.csv\", index_col=\"date\", parse_dates=True, dtype=np.float32)\n",
    "df.drop(columns=[\"close\", \"volume\", \"log_close\", \"log_fit\"], inplace=True)\n",
    "df"
   ]
  },
  {
   "cell_type": "code",
   "execution_count": 15,
   "metadata": {},
   "outputs": [
    {
     "data": {
      "text/plain": [
       "(dtype('<M8[ns]'),\n",
       " volume_norm    float32\n",
       " log_diff       float32\n",
       " day_sin        float32\n",
       " day_cos        float32\n",
       " year_sin       float32\n",
       " year_cos       float32\n",
       " dtype: object)"
      ]
     },
     "execution_count": 15,
     "metadata": {},
     "output_type": "execute_result"
    }
   ],
   "source": [
    "df.index.dtype, df.dtypes"
   ]
  },
  {
   "cell_type": "code",
   "execution_count": 16,
   "metadata": {},
   "outputs": [],
   "source": [
    "log_fit_coef = np.array([[ 9.41599146e+00], [-5.06317303e-08]], dtype=np.float64)"
   ]
  },
  {
   "cell_type": "markdown",
   "metadata": {},
   "source": [
    "## Train/Test"
   ]
  },
  {
   "cell_type": "code",
   "execution_count": 17,
   "metadata": {},
   "outputs": [],
   "source": [
    "# input: past 3 weeks\n",
    "Tx = 21\n",
    "# output: next 1 week\n",
    "Ty = 7\n",
    "# number of features\n",
    "features = [\"volume_norm\", \"log_diff\", \"day_sin\", \"day_cos\", \"year_sin\", \"year_cos\"]\n",
    "n = len(features)\n",
    "# size of train/test data\n",
    "m = df.shape[0] - (Tx + Ty)"
   ]
  },
  {
   "cell_type": "code",
   "execution_count": 18,
   "metadata": {},
   "outputs": [
    {
     "data": {
      "text/plain": [
       "((4121, 21, 6), dtype('float32'), (4121, 7), dtype('float32'))"
      ]
     },
     "execution_count": 18,
     "metadata": {},
     "output_type": "execute_result"
    }
   ],
   "source": [
    "X = np.zeros((m, Tx, n))\n",
    "y = np.zeros((m, Ty))\n",
    "\n",
    "for i in range(y.shape[0]):\n",
    "    X[i, :, :] = df[features].iloc[i:i+Tx].values\n",
    "    y[i, :] = df[\"log_diff\"].iloc[i+Tx: i+Tx+Ty].values\n",
    "\n",
    "X = X.astype(np.float32)\n",
    "y = y.astype(np.float32)\n",
    "\n",
    "X.shape, X.dtype, y.shape, y.dtype"
   ]
  },
  {
   "cell_type": "code",
   "execution_count": 19,
   "metadata": {},
   "outputs": [],
   "source": [
    "batch_size = 32\n",
    "train_size = int(X.shape[0] * 0.9)"
   ]
  },
  {
   "cell_type": "code",
   "execution_count": 20,
   "metadata": {},
   "outputs": [
    {
     "name": "stdout",
     "output_type": "stream",
     "text": [
      "X_train (3708, 21, 6)\n",
      "y_train (3708, 7)\n",
      "<BatchDataset shapes: ((None, 21, 6), (None, 7)), types: (tf.float32, tf.float32)>\n",
      "X_test (413, 21, 6)\n",
      "y_test (413, 7)\n",
      "<BatchDataset shapes: ((None, 21, 6), (None, 7)), types: (tf.float32, tf.float32)>\n"
     ]
    }
   ],
   "source": [
    "X_train = X[:train_size, :, :]\n",
    "y_train = y[:train_size, :]\n",
    "train_dataset = tf.data.Dataset.from_tensor_slices((X_train, y_train)).batch(batch_size)\n",
    "\n",
    "X_test = X[train_size:, :, :]\n",
    "y_test = y[train_size:, :]\n",
    "test_dataset = tf.data.Dataset.from_tensor_slices((X_test, y_test)).batch(batch_size)\n",
    "\n",
    "print(\"X_train\", X_train.shape)\n",
    "print(\"y_train\", y_train.shape)\n",
    "print(train_dataset)\n",
    "\n",
    "print(\"X_test\", X_test.shape)\n",
    "print(\"y_test\", y_test.shape)\n",
    "print(test_dataset)"
   ]
  },
  {
   "cell_type": "markdown",
   "metadata": {},
   "source": [
    "# Model"
   ]
  },
  {
   "cell_type": "code",
   "execution_count": 21,
   "metadata": {},
   "outputs": [],
   "source": [
    "def create_model(Tx, features, Ty, learning_rate=0.01, decay=0.01):\n",
    "    X_in = layers.Input(shape=(Tx, features))\n",
    "    X = layers.LSTM(42, activation=\"relu\", return_sequences=False)(X_in)\n",
    "    X_out = layers.Dense(7, activation=\"relu\")(X)\n",
    "\n",
    "    model = tf.keras.Model(inputs=X_in, outputs=X_out)\n",
    "\n",
    "    opt = tf.optimizers.Adam(learning_rate=learning_rate, decay=decay)\n",
    "    model.compile(optimizer=opt, loss=tf.losses.MeanSquaredError(), metrics=[tf.metrics.MeanSquaredError()])\n",
    "\n",
    "    return model"
   ]
  },
  {
   "cell_type": "code",
   "execution_count": 36,
   "metadata": {},
   "outputs": [
    {
     "name": "stdout",
     "output_type": "stream",
     "text": [
      "Model: \"model_3\"\n",
      "_________________________________________________________________\n",
      " Layer (type)                Output Shape              Param #   \n",
      "=================================================================\n",
      " input_4 (InputLayer)        [(None, 21, 6)]           0         \n",
      "                                                                 \n",
      " lstm_3 (LSTM)               (None, 42)                8232      \n",
      "                                                                 \n",
      " dense_3 (Dense)             (None, 7)                 301       \n",
      "                                                                 \n",
      "=================================================================\n",
      "Total params: 8,533\n",
      "Trainable params: 8,533\n",
      "Non-trainable params: 0\n",
      "_________________________________________________________________\n"
     ]
    }
   ],
   "source": [
    "model = create_model(Tx, n, Ty, learning_rate=0.02, decay=0.02)\n",
    "model.summary()"
   ]
  },
  {
   "cell_type": "code",
   "execution_count": 37,
   "metadata": {},
   "outputs": [
    {
     "name": "stdout",
     "output_type": "stream",
     "text": [
      "Epoch 1/100\n",
      "116/116 [==============================] - 1s 6ms/step - loss: 0.8704 - mean_squared_error: 0.8704\n",
      "Epoch 2/100\n",
      "116/116 [==============================] - 1s 7ms/step - loss: 1.5163 - mean_squared_error: 1.5163\n",
      "Epoch 3/100\n",
      "116/116 [==============================] - 1s 6ms/step - loss: 0.6808 - mean_squared_error: 0.6808\n",
      "Epoch 4/100\n",
      "116/116 [==============================] - 1s 6ms/step - loss: 0.6546 - mean_squared_error: 0.6546\n",
      "Epoch 5/100\n",
      "116/116 [==============================] - 1s 6ms/step - loss: 0.7647 - mean_squared_error: 0.7647\n",
      "Epoch 6/100\n",
      "116/116 [==============================] - 1s 5ms/step - loss: 0.6008 - mean_squared_error: 0.6008\n",
      "Epoch 7/100\n",
      "116/116 [==============================] - 1s 6ms/step - loss: 0.5278 - mean_squared_error: 0.5278\n",
      "Epoch 8/100\n",
      "116/116 [==============================] - 1s 5ms/step - loss: 0.5366 - mean_squared_error: 0.5366\n",
      "Epoch 9/100\n",
      "116/116 [==============================] - 1s 6ms/step - loss: 0.5022 - mean_squared_error: 0.5022\n",
      "Epoch 10/100\n",
      "116/116 [==============================] - 1s 6ms/step - loss: 0.4760 - mean_squared_error: 0.4760\n",
      "Epoch 11/100\n",
      "116/116 [==============================] - 1s 6ms/step - loss: 0.4546 - mean_squared_error: 0.4546\n",
      "Epoch 12/100\n",
      "116/116 [==============================] - 1s 6ms/step - loss: 0.4446 - mean_squared_error: 0.4446\n",
      "Epoch 13/100\n",
      "116/116 [==============================] - 1s 6ms/step - loss: 0.4399 - mean_squared_error: 0.4399\n",
      "Epoch 14/100\n",
      "116/116 [==============================] - 1s 6ms/step - loss: 0.4362 - mean_squared_error: 0.4362\n",
      "Epoch 15/100\n",
      "116/116 [==============================] - 1s 6ms/step - loss: 0.4335 - mean_squared_error: 0.4335\n",
      "Epoch 16/100\n",
      "116/116 [==============================] - 1s 6ms/step - loss: 0.4315 - mean_squared_error: 0.4315\n",
      "Epoch 17/100\n",
      "116/116 [==============================] - 1s 6ms/step - loss: 0.4301 - mean_squared_error: 0.4301\n",
      "Epoch 18/100\n",
      "116/116 [==============================] - 1s 6ms/step - loss: 0.4289 - mean_squared_error: 0.4289\n",
      "Epoch 19/100\n",
      "116/116 [==============================] - 1s 6ms/step - loss: 0.4280 - mean_squared_error: 0.4280\n",
      "Epoch 20/100\n",
      "116/116 [==============================] - 1s 6ms/step - loss: 0.4272 - mean_squared_error: 0.4272\n",
      "Epoch 21/100\n",
      "116/116 [==============================] - 1s 6ms/step - loss: 0.4266 - mean_squared_error: 0.4266\n",
      "Epoch 22/100\n",
      "116/116 [==============================] - 1s 6ms/step - loss: 0.4260 - mean_squared_error: 0.4260\n",
      "Epoch 23/100\n",
      "116/116 [==============================] - 1s 6ms/step - loss: 0.4255 - mean_squared_error: 0.4255\n",
      "Epoch 24/100\n",
      "116/116 [==============================] - 1s 6ms/step - loss: 0.4250 - mean_squared_error: 0.4250\n",
      "Epoch 25/100\n",
      "116/116 [==============================] - 1s 6ms/step - loss: 0.4245 - mean_squared_error: 0.4245\n",
      "Epoch 26/100\n",
      "116/116 [==============================] - 1s 6ms/step - loss: 0.4241 - mean_squared_error: 0.4241\n",
      "Epoch 27/100\n",
      "116/116 [==============================] - 1s 6ms/step - loss: 0.4237 - mean_squared_error: 0.4237\n",
      "Epoch 28/100\n",
      "116/116 [==============================] - 1s 6ms/step - loss: 0.4234 - mean_squared_error: 0.4234\n",
      "Epoch 29/100\n",
      "116/116 [==============================] - 1s 6ms/step - loss: 0.4230 - mean_squared_error: 0.4230\n",
      "Epoch 30/100\n",
      "116/116 [==============================] - 1s 6ms/step - loss: 0.4227 - mean_squared_error: 0.4227\n",
      "Epoch 31/100\n",
      "116/116 [==============================] - 1s 6ms/step - loss: 0.4225 - mean_squared_error: 0.4225\n",
      "Epoch 32/100\n",
      "116/116 [==============================] - 1s 6ms/step - loss: 0.4222 - mean_squared_error: 0.4222\n",
      "Epoch 33/100\n",
      "116/116 [==============================] - 1s 6ms/step - loss: 0.4220 - mean_squared_error: 0.4220\n",
      "Epoch 34/100\n",
      "116/116 [==============================] - 1s 6ms/step - loss: 0.4218 - mean_squared_error: 0.4218\n",
      "Epoch 35/100\n",
      "116/116 [==============================] - 1s 6ms/step - loss: 0.4216 - mean_squared_error: 0.4216\n",
      "Epoch 36/100\n",
      "116/116 [==============================] - 1s 6ms/step - loss: 0.4215 - mean_squared_error: 0.4215\n",
      "Epoch 37/100\n",
      "116/116 [==============================] - 1s 6ms/step - loss: 0.4213 - mean_squared_error: 0.4213\n",
      "Epoch 38/100\n",
      "116/116 [==============================] - 1s 6ms/step - loss: 0.4211 - mean_squared_error: 0.4211\n",
      "Epoch 39/100\n",
      "116/116 [==============================] - 1s 6ms/step - loss: 0.4210 - mean_squared_error: 0.4210\n",
      "Epoch 40/100\n",
      "116/116 [==============================] - 1s 6ms/step - loss: 0.4209 - mean_squared_error: 0.4209\n",
      "Epoch 41/100\n",
      "116/116 [==============================] - 1s 6ms/step - loss: 0.4208 - mean_squared_error: 0.4208\n",
      "Epoch 42/100\n",
      "116/116 [==============================] - 1s 6ms/step - loss: 0.4206 - mean_squared_error: 0.4206\n",
      "Epoch 43/100\n",
      "116/116 [==============================] - 1s 6ms/step - loss: 0.4205 - mean_squared_error: 0.4205\n",
      "Epoch 44/100\n",
      "116/116 [==============================] - 1s 6ms/step - loss: 0.4204 - mean_squared_error: 0.4204\n",
      "Epoch 45/100\n",
      "116/116 [==============================] - 1s 6ms/step - loss: 0.4203 - mean_squared_error: 0.4203\n",
      "Epoch 46/100\n",
      "116/116 [==============================] - 1s 6ms/step - loss: 0.4202 - mean_squared_error: 0.4202\n",
      "Epoch 47/100\n",
      "116/116 [==============================] - 1s 6ms/step - loss: 0.4201 - mean_squared_error: 0.4201\n",
      "Epoch 48/100\n",
      "116/116 [==============================] - 1s 6ms/step - loss: 0.4200 - mean_squared_error: 0.4200\n",
      "Epoch 49/100\n",
      "116/116 [==============================] - 1s 6ms/step - loss: 0.4199 - mean_squared_error: 0.4199\n",
      "Epoch 50/100\n",
      "116/116 [==============================] - 1s 6ms/step - loss: 0.4198 - mean_squared_error: 0.4198\n",
      "Epoch 51/100\n",
      "116/116 [==============================] - 1s 6ms/step - loss: 0.4197 - mean_squared_error: 0.4197\n",
      "Epoch 52/100\n",
      "116/116 [==============================] - 1s 6ms/step - loss: 0.4196 - mean_squared_error: 0.4196\n",
      "Epoch 53/100\n",
      "116/116 [==============================] - 1s 6ms/step - loss: 0.4196 - mean_squared_error: 0.4196\n",
      "Epoch 54/100\n",
      "116/116 [==============================] - 1s 6ms/step - loss: 0.4195 - mean_squared_error: 0.4195\n",
      "Epoch 55/100\n",
      "116/116 [==============================] - 1s 6ms/step - loss: 0.4194 - mean_squared_error: 0.4194\n",
      "Epoch 56/100\n",
      "116/116 [==============================] - 1s 6ms/step - loss: 0.4193 - mean_squared_error: 0.4193\n",
      "Epoch 57/100\n",
      "116/116 [==============================] - 1s 6ms/step - loss: 0.4193 - mean_squared_error: 0.4193\n",
      "Epoch 58/100\n",
      "116/116 [==============================] - 1s 6ms/step - loss: 0.4192 - mean_squared_error: 0.4192\n",
      "Epoch 59/100\n",
      "116/116 [==============================] - 1s 6ms/step - loss: 0.4191 - mean_squared_error: 0.4191\n",
      "Epoch 60/100\n",
      "116/116 [==============================] - 1s 6ms/step - loss: 0.4191 - mean_squared_error: 0.4191\n",
      "Epoch 61/100\n",
      "116/116 [==============================] - 1s 6ms/step - loss: 0.4190 - mean_squared_error: 0.4190\n",
      "Epoch 62/100\n",
      "116/116 [==============================] - 1s 6ms/step - loss: 0.4189 - mean_squared_error: 0.4189\n",
      "Epoch 63/100\n",
      "116/116 [==============================] - 1s 6ms/step - loss: 0.4189 - mean_squared_error: 0.4189\n",
      "Epoch 64/100\n",
      "116/116 [==============================] - 1s 6ms/step - loss: 0.4188 - mean_squared_error: 0.4188\n",
      "Epoch 65/100\n",
      "116/116 [==============================] - 1s 6ms/step - loss: 0.4187 - mean_squared_error: 0.4187\n",
      "Epoch 66/100\n",
      "116/116 [==============================] - 1s 6ms/step - loss: 0.4187 - mean_squared_error: 0.4187\n",
      "Epoch 67/100\n",
      "116/116 [==============================] - 1s 6ms/step - loss: 0.4186 - mean_squared_error: 0.4186\n",
      "Epoch 68/100\n",
      "116/116 [==============================] - 1s 6ms/step - loss: 0.4186 - mean_squared_error: 0.4186\n",
      "Epoch 69/100\n",
      "116/116 [==============================] - 1s 7ms/step - loss: 0.4185 - mean_squared_error: 0.4185\n",
      "Epoch 70/100\n",
      "116/116 [==============================] - 1s 6ms/step - loss: 0.4184 - mean_squared_error: 0.4184\n",
      "Epoch 71/100\n",
      "116/116 [==============================] - 1s 6ms/step - loss: 0.4184 - mean_squared_error: 0.4184\n",
      "Epoch 72/100\n",
      "116/116 [==============================] - 1s 6ms/step - loss: 0.4183 - mean_squared_error: 0.4183\n",
      "Epoch 73/100\n",
      "116/116 [==============================] - 1s 6ms/step - loss: 0.4183 - mean_squared_error: 0.4183\n",
      "Epoch 74/100\n",
      "116/116 [==============================] - 1s 6ms/step - loss: 0.4182 - mean_squared_error: 0.4182\n",
      "Epoch 75/100\n",
      "116/116 [==============================] - 1s 6ms/step - loss: 0.4182 - mean_squared_error: 0.4182\n",
      "Epoch 76/100\n",
      "116/116 [==============================] - 1s 6ms/step - loss: 0.4181 - mean_squared_error: 0.4181\n",
      "Epoch 77/100\n",
      "116/116 [==============================] - 1s 6ms/step - loss: 0.4181 - mean_squared_error: 0.4181\n",
      "Epoch 78/100\n",
      "116/116 [==============================] - 1s 6ms/step - loss: 0.4180 - mean_squared_error: 0.4180\n",
      "Epoch 79/100\n",
      "116/116 [==============================] - 1s 6ms/step - loss: 0.4180 - mean_squared_error: 0.4180\n",
      "Epoch 80/100\n",
      "116/116 [==============================] - 1s 6ms/step - loss: 0.4179 - mean_squared_error: 0.4179\n",
      "Epoch 81/100\n",
      "116/116 [==============================] - 1s 7ms/step - loss: 0.4179 - mean_squared_error: 0.4179\n",
      "Epoch 82/100\n",
      "116/116 [==============================] - 1s 8ms/step - loss: 0.4178 - mean_squared_error: 0.4178\n",
      "Epoch 83/100\n",
      "116/116 [==============================] - 1s 6ms/step - loss: 0.4178 - mean_squared_error: 0.4178\n",
      "Epoch 84/100\n",
      "116/116 [==============================] - 1s 6ms/step - loss: 0.4177 - mean_squared_error: 0.4177\n",
      "Epoch 85/100\n",
      "116/116 [==============================] - 1s 6ms/step - loss: 0.4177 - mean_squared_error: 0.4177\n",
      "Epoch 86/100\n",
      "116/116 [==============================] - 1s 6ms/step - loss: 0.4176 - mean_squared_error: 0.4176\n",
      "Epoch 87/100\n",
      "116/116 [==============================] - 1s 6ms/step - loss: 0.4176 - mean_squared_error: 0.4176\n",
      "Epoch 88/100\n",
      "116/116 [==============================] - 1s 6ms/step - loss: 0.4176 - mean_squared_error: 0.4176\n",
      "Epoch 89/100\n",
      "116/116 [==============================] - 1s 6ms/step - loss: 0.4175 - mean_squared_error: 0.4175\n",
      "Epoch 90/100\n",
      "116/116 [==============================] - 1s 6ms/step - loss: 0.4175 - mean_squared_error: 0.4175\n",
      "Epoch 91/100\n",
      "116/116 [==============================] - 1s 6ms/step - loss: 0.4174 - mean_squared_error: 0.4174\n",
      "Epoch 92/100\n",
      "116/116 [==============================] - 1s 6ms/step - loss: 0.4174 - mean_squared_error: 0.4174\n",
      "Epoch 93/100\n",
      "116/116 [==============================] - 1s 6ms/step - loss: 0.4173 - mean_squared_error: 0.4173\n",
      "Epoch 94/100\n",
      "116/116 [==============================] - 1s 6ms/step - loss: 0.4173 - mean_squared_error: 0.4173\n",
      "Epoch 95/100\n",
      "116/116 [==============================] - 1s 6ms/step - loss: 0.4173 - mean_squared_error: 0.4173\n",
      "Epoch 96/100\n",
      "116/116 [==============================] - 1s 6ms/step - loss: 0.4172 - mean_squared_error: 0.4172\n",
      "Epoch 97/100\n",
      "116/116 [==============================] - 1s 6ms/step - loss: 0.4172 - mean_squared_error: 0.4172\n",
      "Epoch 98/100\n",
      "116/116 [==============================] - 1s 6ms/step - loss: 0.4171 - mean_squared_error: 0.4171\n",
      "Epoch 99/100\n",
      "116/116 [==============================] - 1s 6ms/step - loss: 0.4171 - mean_squared_error: 0.4171\n",
      "Epoch 100/100\n",
      "116/116 [==============================] - 1s 6ms/step - loss: 0.4171 - mean_squared_error: 0.4171\n"
     ]
    }
   ],
   "source": [
    "history = model.fit(train_dataset, epochs=50)"
   ]
  },
  {
   "cell_type": "code",
   "execution_count": 34,
   "metadata": {},
   "outputs": [
    {
     "name": "stdout",
     "output_type": "stream",
     "text": [
      "13/13 [==============================] - 0s 4ms/step - loss: 0.2228 - mean_squared_error: 0.2228\n"
     ]
    },
    {
     "data": {
      "text/plain": [
       "[0.2227736860513687, 0.2227736860513687]"
      ]
     },
     "execution_count": 34,
     "metadata": {},
     "output_type": "execute_result"
    }
   ],
   "source": [
    "model.evaluate(test_dataset)"
   ]
  },
  {
   "cell_type": "code",
   "execution_count": 35,
   "metadata": {},
   "outputs": [
    {
     "data": {
      "image/png": "[encoded data removed]",
      "text/plain": [
       "<Figure size 1440x576 with 2 Axes>"
      ]
     },
     "metadata": {
      "needs_background": "light"
     },
     "output_type": "display_data"
    }
   ],
   "source": [
    "fig, axes = plt.subplots(2, 1)\n",
    "axes[0].plot(history.history[\"loss\"], label=\"loss\")\n",
    "axes[0].legend()\n",
    "axes[1].plot(history.history[\"mean_squared_error\"], label=\"mean_squared_error\")\n",
    "axes[1].legend()\n",
    "plt.show()"
   ]
  },
  {
   "cell_type": "code",
   "execution_count": null,
   "metadata": {},
   "outputs": [],
   "source": []
  }
 ],
 "metadata": {
  "interpreter": {
   "hash": "3619d5c4af2d6b6ace9b5f845aef04faffbdd23ea44365d7398b8fd3b50e9091"
  },
  "kernelspec": {
   "display_name": "Python 3.9.7 64-bit ('tf2.7': conda)",
   "language": "python",
   "name": "python3"
  },
  "language_info": {
   "codemirror_mode": {
    "name": "ipython",
    "version": 3
   },
   "file_extension": ".py",
   "mimetype": "text/x-python",
   "name": "python",
   "nbconvert_exporter": "python",
   "pygments_lexer": "ipython3",
   "version": "3.9.7"
  },
  "orig_nbformat": 4
 },
 "nbformat": 4,
 "nbformat_minor": 2
}
